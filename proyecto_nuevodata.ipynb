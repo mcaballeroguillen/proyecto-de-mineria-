{
 "cells": [
  {
   "cell_type": "code",
   "execution_count": 3,
   "metadata": {},
   "outputs": [
    {
     "name": "stdout",
     "output_type": "stream",
     "text": [
      "OCNTY        40057\n",
      "OCNTYPOP     40057\n",
      "BFACIL3      40057\n",
      "MAGER14      40057\n",
      "MAGER9       40057\n",
      "MRACEHISP    40057\n",
      "MAR          40057\n",
      "MEDUC        40057\n",
      "APGAR5       40057\n",
      "APGAR5R      40057\n",
      "SEX          40057\n",
      "dtype: int64\n"
     ]
    }
   ],
   "source": [
    " import pandas as pd\n",
    " df1=pd.read_csv(\"merge.csv\")\n",
    " cnt = df1.count()\n",
    " print (cnt)"
   ]
  },
  {
   "cell_type": "code",
   "execution_count": 7,
   "metadata": {},
   "outputs": [
    {
     "data": {
      "text/plain": [
       "8     14026\n",
       "9     10031\n",
       "10     9644\n",
       "7      2838\n",
       "99     1185\n",
       "6       830\n",
       "5       635\n",
       "4       256\n",
       "1       174\n",
       "0       161\n",
       "3       149\n",
       "2       128\n",
       "Name: APGAR5, dtype: int64"
      ]
     },
     "execution_count": 7,
     "metadata": {},
     "output_type": "execute_result"
    }
   ],
   "source": [
    "df1['APGAR5'].value_counts()"
   ]
  },
  {
   "cell_type": "code",
   "execution_count": 7,
   "metadata": {},
   "outputs": [
    {
     "data": {
      "text/plain": [
       "0    21022\n",
       "1    19035\n",
       "Name: SEX, dtype: int64"
      ]
     },
     "execution_count": 7,
     "metadata": {},
     "output_type": "execute_result"
    }
   ],
   "source": [
    "new_map = {10 : 10,9 : 9, 8 : 8,7 : 15,6 : 15,5 : 15,4 : 15 ,3 : 15,2 : 15,1 : 15,0 : 15,99 : 99}\n",
    "new_map2={'M':0,'F':1}\n",
    "df2= df1.copy()\n",
    "df2[\"APGAR5\"]=df2[\"APGAR5\"].map(new_map)\n",
    "df2[\"SEX\"]=df2[\"SEX\"].map(new_map2)\n",
    "df2['SEX'].value_counts()\n"
   ]
  },
  {
   "cell_type": "code",
   "execution_count": 11,
   "metadata": {},
   "outputs": [
    {
     "name": "stdout",
     "output_type": "stream",
     "text": [
      "Accuracy en test set: 0.376676021204\n",
      "             precision    recall  f1-score   support\n",
      "\n",
      "          8       0.40      0.58      0.48      4629\n",
      "          9       0.32      0.23      0.27      3310\n",
      "         10       0.37      0.40      0.39      3183\n",
      "         15       0.30      0.04      0.08      1706\n",
      "\n",
      "avg / total       0.36      0.38      0.35     12828\n",
      "\n",
      "[[2692  842 1008   87]\n",
      " [1707  777  766   60]\n",
      " [1343  523 1289   28]\n",
      " [ 930  300  402   74]]\n"
     ]
    }
   ],
   "source": [
    "from sklearn.model_selection import train_test_split\n",
    "from sklearn.tree import DecisionTreeClassifier\n",
    "from sklearn.metrics import accuracy_score \n",
    "from sklearn.metrics import confusion_matrix \n",
    "from sklearn.metrics import classification_report\n",
    "import pandas as pd\n",
    "\n",
    "df3=df2[(df2['APGAR5'] != 99)]\n",
    "\n",
    "X= df3.drop(labels=[\"APGAR5\",\"APGAR5R\"],axis=1)\n",
    "Y= df3.APGAR5\n",
    "X_train, X_test, y_train, y_test = train_test_split(X, Y, test_size=.33, random_state=37, stratify=Y)\n",
    "\n",
    "clf = DecisionTreeClassifier()\n",
    "clf.fit(X_train, y_train)\n",
    "\n",
    "y_pred = clf.predict(X_test)\n",
    "print(\"Accuracy en test set:\", accuracy_score(y_test, y_pred))\n",
    "print(classification_report(y_test, y_pred))\n",
    "print(confusion_matrix (y_test,y_pred))\n"
   ]
  },
  {
   "cell_type": "markdown",
   "metadata": {},
   "source": [
    "Redes neuronales"
   ]
  },
  {
   "cell_type": "code",
   "execution_count": 19,
   "metadata": {},
   "outputs": [
    {
     "name": "stdout",
     "output_type": "stream",
     "text": [
      "Accuracy en Red Neuronal: 0.395541004054\n",
      "             precision    recall  f1-score   support\n",
      "\n",
      "          8       0.39      0.84      0.53      4629\n",
      "          9       0.00      0.00      0.00      3310\n",
      "         10       0.42      0.36      0.39      3183\n",
      "         15       0.90      0.02      0.04      1706\n",
      "\n",
      "avg / total       0.36      0.40      0.29     12828\n",
      "\n",
      "[[3883    0  744    2]\n",
      " [2763    0  547    0]\n",
      " [2025    0 1156    2]\n",
      " [1334    0  337   35]]\n"
     ]
    },
    {
     "name": "stderr",
     "output_type": "stream",
     "text": [
      "/home/marco/anaconda2/envs/py36/lib/python3.6/site-packages/sklearn/metrics/classification.py:1113: UndefinedMetricWarning: Precision and F-score are ill-defined and being set to 0.0 in labels with no predicted samples.\n",
      "  'precision', 'predicted', average, warn_for)\n"
     ]
    }
   ],
   "source": [
    "import pandas as pd\n",
    "from sklearn.neural_network import MLPClassifier\n",
    "from sklearn.metrics import classification_report\n",
    "from sklearn.model_selection import train_test_split\n",
    "from sklearn.metrics import accuracy_score \n",
    "from sklearn.metrics import confusion_matrix\n",
    "from sklearn.preprocessing import StandardScaler\n",
    "\n",
    "datos = df3\n",
    "X = datos.drop(labels=[\"APGAR5\",\"APGAR5R\"],axis=1)\n",
    "Y = datos.APGAR5\n",
    "\n",
    "X_train, X_test, y_train, y_test = train_test_split(X, Y, test_size=.33, random_state=37, stratify=Y)\n",
    "\n",
    "clf = MLPClassifier(solver='lbfgs', alpha=1e-5, hidden_layer_sizes=(5, 2), random_state=1)\n",
    "\n",
    "scaler = StandardScaler()\n",
    "scaler.fit(X_train)\n",
    "\n",
    "X_train = scaler.transform(X_train)  \n",
    "X_test = scaler.transform(X_test)\n",
    "\n",
    "clf.fit(X_train, y_train)\n",
    "\n",
    "y_pred = clf.predict(X_test)\n",
    "\n",
    "print(\"Accuracy en Red Neuronal:\", accuracy_score(y_test, y_pred))\n",
    "print(classification_report(y_test, y_pred))\n",
    "print(confusion_matrix (y_test, y_pred))"
   ]
  },
  {
   "cell_type": "code",
   "execution_count": 20,
   "metadata": {},
   "outputs": [
    {
     "name": "stdout",
     "output_type": "stream",
     "text": [
      "Accuracy en test set: 0.395618958528\n",
      "             precision    recall  f1-score   support\n",
      "\n",
      "          8       0.40      0.66      0.50      4629\n",
      "          9       0.34      0.23      0.27      3310\n",
      "         10       0.41      0.38      0.39      3183\n",
      "         15       0.80      0.02      0.04      1706\n",
      "\n",
      "avg / total       0.44      0.40      0.36     12828\n",
      "\n",
      "[[3066  762  794    7]\n",
      " [1960  763  585    2]\n",
      " [1499  476 1207    1]\n",
      " [1069  242  356   39]]\n"
     ]
    }
   ],
   "source": [
    "import pandas as pd\n",
    "from sklearn import svm\n",
    "from sklearn.metrics import classification_report\n",
    "from sklearn.model_selection import train_test_split\n",
    "from sklearn.metrics import accuracy_score\n",
    "from sklearn.metrics import confusion_matrix\n",
    "\n",
    "datos = df3\n",
    "X = datos.drop(labels=[\"APGAR5\",\"APGAR5R\"],axis=1)\n",
    "Y = datos.APGAR5\n",
    "\n",
    "X_train, X_test, y_train, y_test = train_test_split(X, Y, test_size=.33, random_state=37, stratify=Y)\n",
    "\n",
    "clf = svm.SVC()\n",
    "\n",
    "clf.fit(X_train, y_train)\n",
    "\n",
    "y_pred = clf.predict(X_test)\n",
    "\n",
    "print(\"Accuracy en test set:\", accuracy_score(y_test, y_pred))\n",
    "print(classification_report(y_test, y_pred))\n",
    "print(confusion_matrix (y_test, y_pred))"
   ]
  },
  {
   "cell_type": "code",
   "execution_count": null,
   "metadata": {
    "collapsed": true
   },
   "outputs": [],
   "source": []
  }
 ],
 "metadata": {
  "kernelspec": {
   "display_name": "Python 3",
   "language": "python",
   "name": "python3"
  },
  "language_info": {
   "codemirror_mode": {
    "name": "ipython",
    "version": 3
   },
   "file_extension": ".py",
   "mimetype": "text/x-python",
   "name": "python",
   "nbconvert_exporter": "python",
   "pygments_lexer": "ipython3",
   "version": "3.6.1"
  }
 },
 "nbformat": 4,
 "nbformat_minor": 2
}
