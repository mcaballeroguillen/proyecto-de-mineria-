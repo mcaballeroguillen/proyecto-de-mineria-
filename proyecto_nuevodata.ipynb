{
 "cells": [
  {
   "cell_type": "code",
   "execution_count": 1,
   "metadata": {},
   "outputs": [
    {
     "name": "stdout",
     "output_type": "stream",
     "text": [
      "OCNTY        40057\n",
      "OCNTYPOP     40057\n",
      "BFACIL3      40057\n",
      "MAGER14      40057\n",
      "MAGER9       40057\n",
      "MRACEHISP    40057\n",
      "MAR          40057\n",
      "MEDUC        40057\n",
      "APGAR5       40057\n",
      "APGAR5R      40057\n",
      "SEX          40057\n",
      "dtype: int64\n"
     ]
    }
   ],
   "source": [
    " import pandas as pd\n",
    " df1=pd.read_csv(\"merge.csv\")\n",
    " cnt = df1.count()\n",
    " print (cnt)"
   ]
  },
  {
   "cell_type": "code",
   "execution_count": 13,
   "metadata": {},
   "outputs": [
    {
     "data": {
      "text/plain": [
       "2    25556\n",
       "1    14501\n",
       "Name: MAR, dtype: int64"
      ]
     },
     "execution_count": 13,
     "metadata": {},
     "output_type": "execute_result"
    }
   ],
   "source": [
    "df1['MAR'].value_counts()"
   ]
  },
  {
   "cell_type": "code",
   "execution_count": 2,
   "metadata": {},
   "outputs": [
    {
     "data": {
      "text/plain": [
       "0    21022\n",
       "1    19035\n",
       "Name: SEX, dtype: int64"
      ]
     },
     "execution_count": 2,
     "metadata": {},
     "output_type": "execute_result"
    }
   ],
   "source": [
    "new_map = {10 : 10,9 : 9, 8 : 8,7 : 15,6 : 15,5 : 15,4 : 15 ,3 : 15,2 : 15,1 : 15,0 : 15,99 : 99}\n",
    "new_map2={'M':0,'F':1}\n",
    "df2= df1.copy()\n",
    "df2[\"APGAR5\"]=df2[\"APGAR5\"].map(new_map)\n",
    "df2[\"SEX\"]=df2[\"SEX\"].map(new_map2)\n",
    "df2['SEX'].value_counts()\n"
   ]
  },
  {
   "cell_type": "code",
   "execution_count": 14,
   "metadata": {},
   "outputs": [
    {
     "name": "stdout",
     "output_type": "stream",
     "text": [
      "Accuracy en test set: 0.699251637044\n",
      "             precision    recall  f1-score   support\n",
      "\n",
      "          1       0.60      0.54      0.57      4687\n",
      "          2       0.75      0.79      0.77      8141\n",
      "\n",
      "avg / total       0.69      0.70      0.70     12828\n",
      "\n",
      "[[2523 2164]\n",
      " [1694 6447]]\n"
     ]
    }
   ],
   "source": [
    "from sklearn.model_selection import train_test_split\n",
    "from sklearn.tree import DecisionTreeClassifier\n",
    "from sklearn.metrics import accuracy_score \n",
    "from sklearn.metrics import confusion_matrix \n",
    "from sklearn.metrics import classification_report\n",
    "import pandas as pd\n",
    "\n",
    "df3=df2[(df2['APGAR5'] != 99)]\n",
    "\n",
    "X= df3.drop(labels=[\"MAR\"],axis=1)\n",
    "Y= df3.MAR\n",
    "X_train, X_test, y_train, y_test = train_test_split(X, Y, test_size=.33, random_state=37, stratify=Y)\n",
    "\n",
    "clf = DecisionTreeClassifier()\n",
    "clf.fit(X_train, y_train)\n",
    "\n",
    "y_pred = clf.predict(X_test)\n",
    "print(\"Accuracy en test set:\", accuracy_score(y_test, y_pred))\n",
    "print(classification_report(y_test, y_pred))\n",
    "print(confusion_matrix (y_test,y_pred))\n"
   ]
  },
  {
   "cell_type": "markdown",
   "metadata": {},
   "source": [
    "Redes neuronales"
   ]
  },
  {
   "cell_type": "code",
   "execution_count": 15,
   "metadata": {},
   "outputs": [
    {
     "name": "stdout",
     "output_type": "stream",
     "text": [
      "Accuracy en Red Neuronal: 0.723183660742\n",
      "             precision    recall  f1-score   support\n",
      "\n",
      "          1       0.66      0.50      0.57      4687\n",
      "          2       0.75      0.85      0.80      8141\n",
      "\n",
      "avg / total       0.72      0.72      0.71     12828\n",
      "\n",
      "[[2355 2332]\n",
      " [1219 6922]]\n"
     ]
    }
   ],
   "source": [
    "import pandas as pd\n",
    "from sklearn.neural_network import MLPClassifier\n",
    "from sklearn.metrics import classification_report\n",
    "from sklearn.model_selection import train_test_split\n",
    "from sklearn.metrics import accuracy_score \n",
    "from sklearn.metrics import confusion_matrix\n",
    "from sklearn.preprocessing import StandardScaler\n",
    "\n",
    "datos = df3\n",
    "X = datos.drop(labels=[\"MAR\"],axis=1)\n",
    "Y = datos.MAR\n",
    "\n",
    "X_train, X_test, y_train, y_test = train_test_split(X, Y, test_size=.33, random_state=37, stratify=Y)\n",
    "\n",
    "clf = MLPClassifier(solver='lbfgs', alpha=1e-5, hidden_layer_sizes=(5, 2), random_state=1)\n",
    "\n",
    "scaler = StandardScaler()\n",
    "scaler.fit(X_train)\n",
    "\n",
    "X_train = scaler.transform(X_train)  \n",
    "X_test = scaler.transform(X_test)\n",
    "\n",
    "clf.fit(X_train, y_train)\n",
    "\n",
    "y_pred = clf.predict(X_test)\n",
    "\n",
    "print(\"Accuracy en Red Neuronal:\", accuracy_score(y_test, y_pred))\n",
    "print(classification_report(y_test, y_pred))\n",
    "print(confusion_matrix (y_test, y_pred))"
   ]
  },
  {
   "cell_type": "code",
   "execution_count": 17,
   "metadata": {},
   "outputs": [
    {
     "name": "stdout",
     "output_type": "stream",
     "text": [
      "Accuracy en test set: 0.719675709386\n",
      "             precision    recall  f1-score   support\n",
      "\n",
      "          1       0.65      0.52      0.57      4687\n",
      "          2       0.75      0.84      0.79      8141\n",
      "\n",
      "avg / total       0.71      0.72      0.71     12828\n",
      "\n",
      "[[2418 2269]\n",
      " [1327 6814]]\n"
     ]
    }
   ],
   "source": [
    "import pandas as pd\n",
    "from sklearn import svm\n",
    "from sklearn.metrics import classification_report\n",
    "from sklearn.model_selection import train_test_split\n",
    "from sklearn.metrics import accuracy_score\n",
    "from sklearn.metrics import confusion_matrix\n",
    "\n",
    "datos = df3\n",
    "X = datos.drop(labels=[\"MAR\"],axis=1)\n",
    "Y = datos.MAR\n",
    "\n",
    "X_train, X_test, y_train, y_test = train_test_split(X, Y, test_size=.33, random_state=37, stratify=Y)\n",
    "\n",
    "clf = svm.SVC()\n",
    "\n",
    "clf.fit(X_train, y_train)\n",
    "\n",
    "y_pred = clf.predict(X_test)\n",
    "\n",
    "print(\"Accuracy en test set:\", accuracy_score(y_test, y_pred))\n",
    "print(classification_report(y_test, y_pred))\n",
    "print(confusion_matrix (y_test, y_pred))"
   ]
  },
  {
   "cell_type": "code",
   "execution_count": null,
   "metadata": {
    "collapsed": true
   },
   "outputs": [],
   "source": []
  }
 ],
 "metadata": {
  "kernelspec": {
   "display_name": "Python 3",
   "language": "python",
   "name": "python3"
  },
  "language_info": {
   "codemirror_mode": {
    "name": "ipython",
    "version": 3
   },
   "file_extension": ".py",
   "mimetype": "text/x-python",
   "name": "python",
   "nbconvert_exporter": "python",
   "pygments_lexer": "ipython3",
   "version": "3.6.1"
  }
 },
 "nbformat": 4,
 "nbformat_minor": 2
}
