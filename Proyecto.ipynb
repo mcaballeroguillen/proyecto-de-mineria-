{
 "cells": [
  {
   "cell_type": "markdown",
   "metadata": {},
   "source": [
    "# **Informe Final** "
   ]
  },
  {
   "cell_type": "markdown",
   "metadata": {},
   "source": [
    "## 1. Introducción : \n",
    "\n",
    "En este proyecto abordaremos datos sobre el estudio y el cálculo de la puntuación de Apgar en infantes recién nacidos.\n",
    "\n",
    "El exámen de Apgar es el primer diagnóstico que se le realiza a un recién nacido, en distintos periodos de tiempo. La primera y la segunda observación se realizan un minuto y cinco minutos posteriores al nacimiento del feto. Mediante este examen, se determina de la manera más rápida el estado físico y salud general del recién nacido como también si es que requiere de algún procedimiento posterior al nacimiento.\n",
    "\n",
    "Para lograr de manera exitosa una predicción de esta puntuación, se obtiene un dataset con los antecedentes socioeconómicos de ambos padres del infante, por lo que se busca alguna correlación entre las actividades diarias y malas prácticas de los padres frente a su descendencia.\n",
    "\n",
    "A partir de las metodologías vistas en clases, se busca generar estadísticas y correlaciones relevantes a las costumbres pecaminosas de la sociedad y nuestra futura generación. De esta forma, abordaremos una postura crítica y disuasiva, con una finalidad de generar el cambio necesario para cuidar y preservar nuestro futuro.\n",
    "\n",
    "La segunda postura frente a este trabajo es dar un mayor lapso temporal a los potencialmente padres. Esto quiere decir, a partir de nuestro trabajo se podrá identificar problemáticas en algún recién nacido, sin si quiera tener la etapa del embarazo completa. De forma más clara, conociendo los datos socioeconómicos personales, tales como ingreso, estrato social, estudios, escolaridad, empleo, hogar geográfico, por mencionar algunos, se llegará a una noción del estado de salud de una futura guagua.\n",
    "\n",
    "(3)Temática o problemática central y describir cómo se abordará inicialmente.\n",
    "\n",
    "La problemática que se presenta en un inicio es la incertidumbre de la generalización de nuestras predicciones acerca del examen de Apgar. Si bien, se logrará predecir esta puntuación en base a numerosos factores, ¿qué tan generalizable es la salud de un recién nacido? ¿Se puede concluir al respecto de su vida completa? O ¿sólo es una advertencia al momento de dar a luz? ¿Se podrán tomar decisiones como por ejemplo, no tener un bebé porque existe conocimiento que nacerá con algún defecto? Siendo esta la gran problemática, nos enfocaremos en estudiar relaciones del estado de salud inicial de un bebé con el desempeño de su vida.\n"
   ]
  },
  {
   "cell_type": "markdown",
   "metadata": {},
   "source": [
    "## 2. Descripción de los datos :\n",
    "\n",
    "        "
   ]
  },
  {
   "cell_type": "markdown",
   "metadata": {
    "collapsed": true
   },
   "source": [
    "## 3.Exploración inicial:"
   ]
  },
  {
   "cell_type": "markdown",
   "metadata": {},
   "source": [
    "## 4.Estadísticas y Gráficos:"
   ]
  },
  {
   "cell_type": "markdown",
   "metadata": {},
   "source": [
    "## 5.Trabajos Relacionados:"
   ]
  }
 ],
 "metadata": {
  "kernelspec": {
   "display_name": "Python 3",
   "language": "python",
   "name": "python3"
  },
  "language_info": {
   "codemirror_mode": {
    "name": "ipython",
    "version": 3
   },
   "file_extension": ".py",
   "mimetype": "text/x-python",
   "name": "python",
   "nbconvert_exporter": "python",
   "pygments_lexer": "ipython3",
   "version": "3.6.1"
  }
 },
 "nbformat": 4,
 "nbformat_minor": 2
}
