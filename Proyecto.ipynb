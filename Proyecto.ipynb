{
 "cells": [
  {
   "cell_type": "markdown",
   "metadata": {},
   "source": [
    "# **Predicción de la puntuación de Apgar** "
   ]
  },
  {
   "cell_type": "markdown",
   "metadata": {},
   "source": [
    "## 1. Introducción : \n",
    "\n",
    "En este proyecto abordaremos datos sobre el estudio y el cálculo de la puntuación de Apgar en infantes recién nacidos.\n",
    "\n",
    "El exámen de Apgar es el primer diagnóstico que se realiza a un recién nacido, en distintos periodos de tiempo. La primera y la segunda observación se realizan un minuto y cinco minutos posteriores al nacimiento del feto. Mediante este examen, se determina de la manera más rápida el estado físico y salud general del recién nacido como también si es que requiere de alguna intervención posterior al nacimiento.\n",
    "\n",
    "Para lograr de manera exitosa una predicción de esta puntuación, se obtiene un dataset con los antecedentes socioeconómicos de ambos padres del infante, por lo que se busca alguna correlación entre las actividades diarias y malas prácticas de los padres frente a su descendencia.\n",
    "\n",
    "A partir de las metodologías vistas en clases, se busca generar estadísticas y correlaciones relevantes a las costumbres pecaminosas de la sociedad y nuestra futura generación. De esta forma, abordaremos una postura crítica y disuasiva, con una finalidad de generar el cambio necesario para cuidar y preservar nuestro futuro.\n",
    "\n",
    "La segunda postura frente a este trabajo es dar un mayor lapso temporal a los potencialmente padres. Esto quiere decir, a partir de nuestro trabajo se podrá identificar problemáticas en algún recién nacido, sin si quiera tener la etapa del embarazo completa. De manera más clara, conociendo los datos socioeconómicos, tales como ingreso, estrato social, estudios, escolaridad, empleo, hogar geográfico, por mencionar algunos, se llegará a una noción del estado de salud de una futura guagua.\n",
    "\n",
    "La problemática que se presenta en un inicio es la incertidumbre de la generalización de nuestras predicciones acerca del examen de Apgar. Si bien, se logrará predecir esta puntuación en base a numerosos factores, ¿qué tan generalizable es la salud de un recién nacido? ¿Se puede concluir al respecto de su vida completa? O ¿sólo es una advertencia al momento de dar a luz? ¿Se podrán tomar decisiones como por ejemplo, no tener un bebé porque existe conocimiento que nacerá con algún defecto? Siendo esta la gran problemática, nos enfocaremos en estudiar relaciones del estado de salud inicial de un bebé con los aspectos socio-económicos de los padres, para posteriormente relacionar la puntuación de Apgar con la calidad de vida de una persona.\n"
   ]
  },
  {
   "cell_type": "markdown",
   "metadata": {},
   "source": [
    "## 2. Descripción de los datos :   \n",
    "        \n",
    "        "
   ]
  },
  {
   "cell_type": "markdown",
   "metadata": {},
   "source": [
    " Atributos con los que trabajaremos:\n",
    "        * OCNTYPOP: Población del sector geográfico de la persona en medición.\n",
    "        * BFacil3: Institución en donde se dio el parto.*\n",
    "                   Posibles valores: Hospital, ~Hospital, No se sabe.\n",
    "        * Mager14: Escala de edad de la madre en intervalos pequeños.\n",
    "        * Mager9: Escala de edad de la madre en intervalos generales.\n",
    "        * MRACEHISP: Raza de la madre según origen Hispáno.\n",
    "                    Algunos valores: Mexicana, Puerto Riqueña, Cubana, América del centro/sur\n",
    "        * MAR: Estatus de matrimonio. Valores: Sí, No, No se sabe.\n",
    "        *MEDUC: Escolaridad de la madre.\n",
    "        *CIG_REC: Dato que representa si la madre fuma o no.\n",
    "        *APGAR5: Puntuación Apgar del recién nacido. Este es el valor que deseamos predecir.\n",
    "        *Sex: Género del recién nacido.\n"
   ]
  },
  {
   "cell_type": "markdown",
   "metadata": {
    "collapsed": true
   },
   "source": [
    "## 3.Exploración inicial:"
   ]
  },
  {
   "cell_type": "code",
   "execution_count": 1,
   "metadata": {},
   "outputs": [
    {
     "name": "stderr",
     "output_type": "stream",
     "text": [
      "/home/marco/anaconda2/envs/py36/lib/python3.6/site-packages/IPython/core/interactiveshell.py:2717: DtypeWarning: Columns (27) have mixed types. Specify dtype option on import or set low_memory=False.\n",
      "  interactivity=interactivity, compiler=compiler, result=result)\n"
     ]
    },
    {
     "name": "stdout",
     "output_type": "stream",
     "text": [
      "FILLER1           41130\n",
      "REVISION          41130\n",
      "FILLER2           41130\n",
      "DOB_YY            41130\n",
      "DOB_MM            41130\n",
      "FILLER3           41130\n",
      "DOB_WK            41130\n",
      "OTERR             41130\n",
      "FILLER4           41130\n",
      "OCNTY             41130\n",
      "OCNTYPOP          41130\n",
      "BFACIL            41130\n",
      "UBFACIL           41130\n",
      "FILLER5           41130\n",
      "BFACIL3           41130\n",
      "FILLER6           41130\n",
      "MAGE_IMPFLG       41130\n",
      "MAGE_REPFLG       41130\n",
      "MAGER             41130\n",
      "MAGER14           41130\n",
      "MAGER9            41130\n",
      "MBCNTRY           41130\n",
      "FILLER7           41130\n",
      "MRTERR            41130\n",
      "FILLER8           41130\n",
      "MRCNTY            41130\n",
      "FILLER9           41130\n",
      "RCNTY_POP         41130\n",
      "FILLER10          41130\n",
      "RECTYPE           41130\n",
      "                  ...  \n",
      "F_URF_ECLAMP      41130\n",
      "FILLER70          41130\n",
      "F_UOB_INDUCT      41130\n",
      "FILLER71          41130\n",
      "F_UOB_TOCOL       41130\n",
      "FILLER72          41130\n",
      "F_ULD_MECONIUM    41130\n",
      "FILLER73          41130\n",
      "F_ULD_PRECIP      41130\n",
      "FILLER74          41130\n",
      "F_ULD_BREECH      41130\n",
      "FILLER75          41130\n",
      "F_U_VAGINAL       41130\n",
      "F_U_VBAC          41130\n",
      "F_U_PRIMAC        41130\n",
      "F_U_REPEAC        41130\n",
      "F_U_FORCEP        41130\n",
      "F_U_VACUUM        41130\n",
      "FILLER76          41130\n",
      "F_UCA_ANEN        41130\n",
      "F_UCA_SPINA       41130\n",
      "FILLER77          41130\n",
      "F_UCA_OMPHALO     41130\n",
      "FILLER78          41130\n",
      "F_UCA_CLEFTLP     41130\n",
      "FILLER79          41130\n",
      "F_UCA_HERNIA      41130\n",
      "FILLER80          41130\n",
      "F_UCA_DOWNS       41130\n",
      "FILLER81          41130\n",
      "Length: 314, dtype: int64\n"
     ]
    }
   ],
   "source": [
    "    import pandas as pd\n",
    "    df2=pd.read_csv(\"nchs_birth_2011.csv\")\n",
    "    cnt = df2.count()\n",
    "    print (cnt)"
   ]
  },
  {
   "cell_type": "markdown",
   "metadata": {},
   "source": [
    "Como se puede observar el dataset contiene 314 atributos y 41130 tuplas. Se redimensionó quitando los atributos que no serían importantes para nuestro estudio como ser los datos del bebé al nacer(peso, largo, dimensiones físicas) ya que la idea del proyecto es predecir el estado del bebé con los datos de los padres; y en ese momento no es posible saber más información del bebé.\n",
    "\n",
    "Además este dataset contaba con la peculiaridad de que varios atributos como ser la edad, el estrato social, nivel de escolaridad, entre otros, aparecían en la tabla con diferentes escalas, por ejemplo:\n",
    "\n",
    "\tEl campo MAGER es la edad de la madre como tal, pero además está el campo MAGER9 que  también es la edad de la mamá  solo que están agrupadas en 9 clases (menos 15 años,15-19 años,20-24 años, …) , igual está MAGER14 (edad de la madre en 14 clases) por lo que sólo se considera uno de estos campos, ya que son el mismo atributo en un escalado diferente. "
   ]
  },
  {
   "cell_type": "code",
   "execution_count": 2,
   "metadata": {},
   "outputs": [
    {
     "name": "stdout",
     "output_type": "stream",
     "text": [
      "Campos Finales\n",
      "OCNTY        41130\n",
      "OCNTYPOP     41130\n",
      "BFACIL3      41130\n",
      "MAGER14      41130\n",
      "MAGER9       41130\n",
      "MRACEHISP    41130\n",
      "MAR          41130\n",
      "MEDUC        41130\n",
      "CIG_REC      41130\n",
      "APGAR5       41130\n",
      "APGAR5R      41130\n",
      "SEX          41130\n",
      "dtype: int64\n"
     ]
    }
   ],
   "source": [
    "    import pandas as pd\n",
    "    df1=pd.read_csv(\"reduccion.csv\")\n",
    "    cnt = df1.count()\n",
    "    print(\"Campos Finales\")\n",
    "    print (cnt)"
   ]
  },
  {
   "cell_type": "markdown",
   "metadata": {},
   "source": [
    "## 4.Estadísticas y Gráficos:"
   ]
  },
  {
   "cell_type": "code",
   "execution_count": null,
   "metadata": {
    "collapsed": true
   },
   "outputs": [],
   "source": [
    "%matplotlib inline\n",
    "import matplotlib.pyplot as plt\n",
    "df1[(df1['APGAR5'] != 99)].groupby('MEDUC').plot.bar()\n",
    "plt.show()"
   ]
  },
  {
   "cell_type": "markdown",
   "metadata": {},
   "source": [
    "Gráfico que muestra la relación entre la escolaridad de la madre y la medida del examen APGAR del bebé. Podemos observar a mayor escolaridad, más saludable nacen los bebés."
   ]
  },
  {
   "cell_type": "code",
   "execution_count": null,
   "metadata": {
    "collapsed": true
   },
   "outputs": [],
   "source": [
    "%matplotlib inline\n",
    "import matplotlib.pyplot as plt\n",
    "df1[(df1['APGAR5'] != 99)].groupby('MAGER9').mean().loc[:,['APGAR5']].plot()\n",
    "plt.show()"
   ]
  },
  {
   "cell_type": "markdown",
   "metadata": {},
   "source": [
    "Gráfico que muestra que entre los 15 a 34 años de edad de la madre, aumenta la puntuación de Apgar, sin embargo en el intervalo de 35 a 44 años, la puntuación disminuye considerablemente y  finalmente retoma en el intervalo 45 a 50 años. "
   ]
  },
  {
   "cell_type": "code",
   "execution_count": 7,
   "metadata": {},
   "outputs": [
    {
     "data": {
      "image/png": "[encoded data removed]",
      "text/plain": [
       "<matplotlib.figure.Figure at 0x1aab448cc88>"
      ]
     },
     "metadata": {},
     "output_type": "display_data"
    }
   ],
   "source": [
    "%matplotlib inline\n",
    "import matplotlib.pyplot as plt\n",
    "df1[(df1['APGAR5'] != 99)].groupby('MRACEHISP').mean().loc[:,['APGAR5']].plot()\n",
    "plt.show()"
   ]
  },
  {
   "cell_type": "markdown",
   "metadata": {},
   "source": [
    "Gráfico que muestra que las madres cubanas son las que dieron a luz a los bebes más saludables, y que las madres no hispanas negras son las tienen la peor calificación. "
   ]
  },
  {
   "cell_type": "markdown",
   "metadata": {},
   "source": [
    "## 5.Trabajos Relacionados:"
   ]
  },
  {
   "cell_type": "markdown",
   "metadata": {},
   "source": [
    "\n",
    "### Objetivo\n",
    "\n",
    "Evaluar si la puntuación de Apgar sigue siendo pertinente en la práctica contemporánea después de más de 50 años de amplio uso y evaluar el valor de la puntuación de Apgar en la predicción de la supervivencia infantil, expandiéndose desde el período neonatal hasta el post-neonatal.\n",
    "\n",
    "### Métodos\n",
    "\n",
    "Se utilizó el conjunto de datos sobre nacimientos vivos y mortalidad infantil, que incluía 25.168.052 nacimientos únicos y 768.305 partos gemelos. El resultado del interés fue la muerte del bebé dentro de un año después del nacimiento. Se utilizó el modelo de riesgo proporcional de Cox para estimar la razón de riesgo de mortalidad infantil con diferentes puntuaciones de Apgar.\n",
    "\n",
    "### Resultados\n",
    "\n",
    "Entre los nacimientos con una puntuación de Apgar muy baja a los cinco minutos (1-3), las tasas de mortalidad neonatal y post neonatal permanecieron altas hasta el término (≥ 37 semanas). Por otro lado, entre los nacimientos con alto puntaje de Apgar (≥7), la tasa de mortalidad neonatal y post neonatal disminuyó progresivamente con la edad gestacional. Los blancos no hispanos tuvieron una mortalidad neonatal consistentemente mayor que la de los no hispanos negros tanto en nacimientos prematuros como de término. Sin embargo, para la mortalidad post-neonatal, el negro tenía una tasa significativamente mayor que el blanco. El patrón de los cambios en la mortalidad neonatal y post-neonatal por puntuación de Apgar en nacimientos gemelos es esencialmente el mismo que en los nacimientos únicos.\n",
    "\n",
    "### Conclusiones\n",
    "\n",
    "El sistema de puntuación de Apgar tiene un valor continuo para predecir los resultados adversos neonatales y posneonatales tanto en el término como en los prematuros, y es aplicable a gemelos y en varios grupos raciales o étnicos.\n",
    "\n",
    "\n",
    "referencia: https://www.ncbi.nlm.nih.gov/pmc/articles/PMC3726736/"
   ]
  },
  {
   "cell_type": "markdown",
   "metadata": {
    "collapsed": true
   },
   "source": [
    "# Metodos de Clasificación:\n"
   ]
  },
  {
   "cell_type": "markdown",
   "metadata": {},
   "source": [
    "## 1. Árbol de decisión"
   ]
  },
  {
   "cell_type": "code",
   "execution_count": 2,
   "metadata": {},
   "outputs": [
    {
     "name": "stdout",
     "output_type": "stream",
     "text": [
      "Accuracy en test set: 0.882266263906\n",
      "             precision    recall  f1-score   support\n",
      "\n",
      "          1       0.00      0.00      0.00         9\n",
      "          2       0.00      0.00      0.00         6\n",
      "          3       0.00      0.00      0.00         6\n",
      "          4       0.00      0.00      0.00        14\n",
      "          5       0.00      0.00      0.00        36\n",
      "          6       0.00      0.00      0.00        36\n",
      "          7       0.00      0.00      0.00       152\n",
      "          8       0.08      0.01      0.02       645\n",
      "          9       0.89      0.99      0.94     12045\n",
      "         10       0.31      0.01      0.02       502\n",
      "         99       0.81      0.11      0.19       122\n",
      "\n",
      "avg / total       0.81      0.88      0.84     13573\n",
      "\n",
      "[[    0     0     0     0     0     0     0     0     9     0     0]\n",
      " [    0     0     0     0     0     0     0     0     6     0     0]\n",
      " [    0     0     0     0     0     0     0     0     6     0     0]\n",
      " [    0     0     0     0     0     0     0     0    14     0     0]\n",
      " [    0     0     0     0     0     0     0     0    36     0     0]\n",
      " [    0     0     0     0     0     0     0     1    34     1     0]\n",
      " [    0     0     0     0     1     0     0     0   150     0     1]\n",
      " [    0     0     0     0     0     0     1     6   638     0     0]\n",
      " [    0     0     4     1     1     4     9    63 11951    10     2]\n",
      " [    0     0     0     0     0     0     0     1   496     5     0]\n",
      " [    0     0     0     0     0     0     0     0   109     0    13]]\n"
     ]
    },
    {
     "name": "stderr",
     "output_type": "stream",
     "text": [
      "/home/marco/anaconda2/envs/py36/lib/python3.6/site-packages/sklearn/metrics/classification.py:1113: UndefinedMetricWarning: Precision and F-score are ill-defined and being set to 0.0 in labels with no predicted samples.\n",
      "  'precision', 'predicted', average, warn_for)\n"
     ]
    }
   ],
   "source": [
    "from sklearn.model_selection import train_test_split\n",
    "from sklearn.tree import DecisionTreeClassifier\n",
    "from sklearn.metrics import accuracy_score \n",
    "from sklearn.metrics import confusion_matrix \n",
    "from sklearn.metrics import classification_report\n",
    "import pandas as pd\n",
    "\n",
    "df1=pd.read_csv(\"reduccion.csv\")\n",
    "\n",
    "X= df1.drop(labels=[\"APGAR5\",\"APGAR5R\",\"CIG_REC\",\"SEX\"],axis=1)\n",
    "Y= df1.APGAR5\n",
    "X_train, X_test, y_train, y_test = train_test_split(X, Y, test_size=.33, random_state=37, stratify=Y)\n",
    "\n",
    "clf = DecisionTreeClassifier()\n",
    "clf.fit(X_train, y_train)\n",
    "\n",
    "y_pred = clf.predict(X_test)\n",
    "print(\"Accuracy en test set:\", accuracy_score(y_test, y_pred))\n",
    "print(classification_report(y_test, y_pred))\n",
    "print(confusion_matrix (y_test,y_pred))\n"
   ]
  },
  {
   "cell_type": "markdown",
   "metadata": {},
   "source": [
    "Como es de esperarse al tener los datos des balanceados el árbol de decisión tienen una precisión muy buena, pero es claro ya que la mayoría de los datos están en la clase 9.   "
   ]
  },
  {
   "cell_type": "markdown",
   "metadata": {},
   "source": [
    "###  Dataset Con Clases Muy Desbalanceadas"
   ]
  },
  {
   "cell_type": "code",
   "execution_count": 3,
   "metadata": {},
   "outputs": [
    {
     "data": {
      "text/plain": [
       "9     36500\n",
       "8      1955\n",
       "10     1521\n",
       "7       460\n",
       "99      370\n",
       "6       109\n",
       "5       108\n",
       "4        42\n",
       "1        29\n",
       "2        19\n",
       "3        17\n",
       "Name: APGAR5, dtype: int64"
      ]
     },
     "execution_count": 3,
     "metadata": {},
     "output_type": "execute_result"
    }
   ],
   "source": [
    "df1['APGAR5'].value_counts()"
   ]
  },
  {
   "cell_type": "markdown",
   "metadata": {},
   "source": [
    "### Subsampling de APGAR =  9"
   ]
  },
  {
   "cell_type": "code",
   "execution_count": 4,
   "metadata": {},
   "outputs": [
    {
     "name": "stdout",
     "output_type": "stream",
     "text": [
      "9     6500\n",
      "8     1955\n",
      "10    1521\n",
      "7      460\n",
      "99     370\n",
      "6      109\n",
      "5      108\n",
      "4       42\n",
      "1       29\n",
      "2       19\n",
      "3       17\n",
      "Name: APGAR5, dtype: int64\n"
     ]
    }
   ],
   "source": [
    "import numpy as np\n",
    "\n",
    "idx = np.random.choice(df1.loc[df1.APGAR5 == 9].index, size=30000, replace=False)\n",
    "data_subsampled = df1.drop(df1.iloc[idx].index)\n",
    "print(data_subsampled['APGAR5'].value_counts())"
   ]
  },
  {
   "cell_type": "markdown",
   "metadata": {},
   "source": [
    "### Árbol de decisión Con  Reducción"
   ]
  },
  {
   "cell_type": "code",
   "execution_count": 5,
   "metadata": {},
   "outputs": [
    {
     "name": "stdout",
     "output_type": "stream",
     "text": [
      "Accuracy en Árbol de Decisión: 0.561938469916\n",
      "             precision    recall  f1-score   support\n",
      "\n",
      "          1       0.00      0.00      0.00         9\n",
      "          2       0.00      0.00      0.00         6\n",
      "          3       0.00      0.00      0.00         6\n",
      "          4       0.00      0.00      0.00        14\n",
      "          5       0.00      0.00      0.00        36\n",
      "          6       0.00      0.00      0.00        36\n",
      "          7       0.15      0.03      0.04       152\n",
      "          8       0.26      0.09      0.14       645\n",
      "          9       0.59      0.92      0.72      2145\n",
      "         10       0.33      0.04      0.07       502\n",
      "         99       0.57      0.10      0.17       122\n",
      "\n",
      "avg / total       0.46      0.56      0.46      3673\n",
      "\n",
      "[[   0    0    0    0    0    0    0    0    9    0    0]\n",
      " [   0    0    0    0    0    0    0    1    5    0    0]\n",
      " [   0    0    0    0    0    0    0    1    5    0    0]\n",
      " [   0    0    0    0    0    0    0    2   12    0    0]\n",
      " [   0    0    0    0    0    1    0    2   32    1    0]\n",
      " [   0    0    0    0    0    0    1    5   29    1    0]\n",
      " [   0    0    0    2    0    3    4   17  124    1    1]\n",
      " [   0    1    0    1    2    1    3   59  572    5    1]\n",
      " [   2    0    0    1    7    5   14  113 1970   31    2]\n",
      " [   1    0    0    0    0    0    1   17  459   19    5]\n",
      " [   0    0    0    0    0    1    3    7   99    0   12]]\n"
     ]
    },
    {
     "name": "stderr",
     "output_type": "stream",
     "text": [
      "/home/marco/anaconda2/envs/py36/lib/python3.6/site-packages/sklearn/metrics/classification.py:1113: UndefinedMetricWarning: Precision and F-score are ill-defined and being set to 0.0 in labels with no predicted samples.\n",
      "  'precision', 'predicted', average, warn_for)\n"
     ]
    }
   ],
   "source": [
    "\n",
    "\n",
    "X= data_subsampled.drop(labels=[\"APGAR5\",\"APGAR5R\",\"CIG_REC\",\"SEX\"],axis=1)\n",
    "Y= data_subsampled.APGAR5\n",
    "X_train, X_test, y_train, y_test = train_test_split(X, Y, test_size=.33, random_state=37, stratify=Y)\n",
    "\n",
    "clf = DecisionTreeClassifier()\n",
    "clf.fit(X_train, y_train)\n",
    "\n",
    "y_pred = clf.predict(X_test)\n",
    "print(\"Accuracy en Árbol de Decisión:\", accuracy_score(y_test, y_pred))\n",
    "print(classification_report(y_test, y_pred))\n",
    "print(confusion_matrix (y_test,y_pred))\n"
   ]
  },
  {
   "cell_type": "markdown",
   "metadata": {},
   "source": [
    "Como es de esperarse al tener los datos des balanceados el árbol de decisión tienen una precisión muy buena, pero es claro ya que la mayoría de los datos están en la clase 9.   "
   ]
  },
  {
   "cell_type": "markdown",
   "metadata": {},
   "source": [
    "### Nivelando todos los Apgar a aproximadamente 10.000 tuplas"
   ]
  },
  {
   "cell_type": "code",
   "execution_count": 12,
   "metadata": {},
   "outputs": [
    {
     "name": "stdout",
     "output_type": "stream",
     "text": [
      "9     10500\n",
      "8      2955\n",
      "10     2521\n",
      "7      1460\n",
      "6      1109\n",
      "5      1108\n",
      "4      1042\n",
      "1      1029\n",
      "2      1019\n",
      "3      1017\n",
      "99      370\n",
      "Name: APGAR5, dtype: int64\n"
     ]
    }
   ],
   "source": [
    "idx1 = np.random.choice(df1.loc[df1.APGAR5 == 1].index, size=1000)\n",
    "idx2 = np.random.choice(df1.loc[df1.APGAR5 == 2].index, size=1000)\n",
    "idx3 = np.random.choice(df1.loc[df1.APGAR5 == 3].index, size=1000)\n",
    "idx4 = np.random.choice(df1.loc[df1.APGAR5 == 4].index, size=1000)\n",
    "idx5 = np.random.choice(df1.loc[df1.APGAR5 == 5].index, size=1000)\n",
    "idx6 = np.random.choice(df1.loc[df1.APGAR5 == 6].index, size=1000)\n",
    "idx7 = np.random.choice(df1.loc[df1.APGAR5 == 7].index, size=1000)\n",
    "idx8 = np.random.choice(df1.loc[df1.APGAR5 == 8].index, size=1000)\n",
    "idx9 = np.random.choice(df1.loc[df1.APGAR5 == 9].index, size=26000, replace=False)\n",
    "idx10 = np.random.choice(df1.loc[df1.APGAR5 == 10].index, size=1000)\n",
    "\n",
    "data_subsampled = df1.drop(df1.iloc[idx9].index)\n",
    "data_oversampled = pd.concat([data_subsampled, df1.iloc[idx1]])\n",
    "data_oversampled = pd.concat([data_oversampled, df1.iloc[idx2]])\n",
    "data_oversampled = pd.concat([data_oversampled, df1.iloc[idx3]])\n",
    "data_oversampled = pd.concat([data_oversampled, df1.iloc[idx4]])\n",
    "data_oversampled = pd.concat([data_oversampled, df1.iloc[idx5]])\n",
    "data_oversampled = pd.concat([data_oversampled, df1.iloc[idx6]])\n",
    "data_oversampled = pd.concat([data_oversampled, df1.iloc[idx7]])\n",
    "data_oversampled = pd.concat([data_oversampled, df1.iloc[idx8]])\n",
    "data_oversampled = pd.concat([data_oversampled, df1.iloc[idx10]])\n",
    "print(data_oversampled['APGAR5'].value_counts())"
   ]
  },
  {
   "cell_type": "markdown",
   "metadata": {},
   "source": [
    "### Árbol de decisión Con Nivelación de Clases "
   ]
  },
  {
   "cell_type": "code",
   "execution_count": 21,
   "metadata": {},
   "outputs": [
    {
     "name": "stdout",
     "output_type": "stream",
     "text": [
      "Accuracy en Árbol de Decisión NDC: 0.504960442044\n",
      "             precision    recall  f1-score   support\n",
      "\n",
      "          1       0.55      0.71      0.62       339\n",
      "          2       0.63      0.32      0.42       336\n",
      "          3       0.47      0.55      0.50       336\n",
      "          4       0.50      0.45      0.47       344\n",
      "          5       0.52      0.25      0.34       366\n",
      "          6       0.55      0.40      0.46       366\n",
      "          7       0.47      0.14      0.22       482\n",
      "          8       0.33      0.09      0.14       975\n",
      "          9       0.51      0.83      0.63      3465\n",
      "         10       0.45      0.05      0.10       832\n",
      "         99       0.68      0.11      0.18       122\n",
      "\n",
      "avg / total       0.49      0.50      0.44      7963\n",
      "\n",
      "[[ 242    0   11    0    0    0    0    0   86    0    0]\n",
      " [   0  107   14    0    0    0    0    0  215    0    0]\n",
      " [   0   24  185    0    0    0    0    0  127    0    0]\n",
      " [  24    0    0  154    0    0    0    0  166    0    0]\n",
      " [  12    8   12    8   93    4    0   11  214    4    0]\n",
      " [  13    0    9    5    0  146    0    0  193    0    0]\n",
      " [   6    2   15   15    6    3   68   14  352    1    0]\n",
      " [  25    8   33   25   19   27   16   85  727   10    0]\n",
      " [  91   17   83   67   45   69   51  115 2883   40    4]\n",
      " [  19    2   33   32   17   12    8   22  640   45    2]\n",
      " [   5    1    2    2    0    4    2    8   85    0   13]]\n"
     ]
    }
   ],
   "source": [
    "X = data_oversampled.drop(labels=[\"APGAR5\",\"APGAR5R\",\"CIG_REC\",\"SEX\"],axis=1)\n",
    "Y = data_oversampled.APGAR5\n",
    "X_train, X_test, y_train, y_test = train_test_split(X, Y, test_size=.33, random_state=37, stratify=Y)\n",
    "\n",
    "clf = DecisionTreeClassifier()\n",
    "clf.fit(X_train, y_train)\n",
    "\n",
    "y_pred = clf.predict(X_test)\n",
    "print(\"Accuracy en Árbol de Decisión NDC:\", accuracy_score(y_test, y_pred))\n",
    "print(classification_report(y_test, y_pred))\n",
    "print(confusion_matrix (y_test,y_pred))"
   ]
  },
  {
   "cell_type": "markdown",
   "metadata": {},
   "source": [
    "Al nivelar las clases el clasificador ya tiene un comportamiento más o menos aceptable, ya la precisión se redujo, pero es claro que este estudió estamos haciendo que el clasificador  se aprenda el data-set. "
   ]
  },
  {
   "cell_type": "markdown",
   "metadata": {},
   "source": [
    "## 2. Redes Neuronales "
   ]
  },
  {
   "cell_type": "code",
   "execution_count": 6,
   "metadata": {
    "scrolled": true
   },
   "outputs": [
    {
     "name": "stdout",
     "output_type": "stream",
     "text": [
      "Accuracy en Red Neuronal: 0.888233993959\n",
      "             precision    recall  f1-score   support\n",
      "\n",
      "          1       0.00      0.00      0.00         9\n",
      "          2       0.00      0.00      0.00         6\n",
      "          3       0.00      0.00      0.00         6\n",
      "          4       0.00      0.00      0.00        14\n",
      "          5       0.00      0.00      0.00        36\n",
      "          6       0.00      0.00      0.00        36\n",
      "          7       0.00      0.00      0.00       152\n",
      "          8       0.00      0.00      0.00       645\n",
      "          9       0.89      1.00      0.94     12045\n",
      "         10       0.33      0.00      0.01       502\n",
      "         99       1.00      0.11      0.19       122\n",
      "\n",
      "avg / total       0.81      0.89      0.84     13573\n",
      "\n",
      "[[    0     0     0     0     0     0     0     0     9     0     0]\n",
      " [    0     0     0     0     0     0     0     0     6     0     0]\n",
      " [    0     0     0     0     0     0     0     0     6     0     0]\n",
      " [    0     0     0     0     0     0     0     0    14     0     0]\n",
      " [    0     0     0     0     0     0     0     0    36     0     0]\n",
      " [    0     0     0     0     0     0     0     0    36     0     0]\n",
      " [    0     0     0     0     0     0     0     0   152     0     0]\n",
      " [    0     0     0     0     0     0     0     0   645     0     0]\n",
      " [    0     0     0     0     0     0     0     0 12041     4     0]\n",
      " [    0     0     0     0     0     0     0     0   500     2     0]\n",
      " [    0     0     0     0     0     0     0     0   109     0    13]]\n"
     ]
    },
    {
     "name": "stderr",
     "output_type": "stream",
     "text": [
      "/home/marco/anaconda2/envs/py36/lib/python3.6/site-packages/sklearn/metrics/classification.py:1113: UndefinedMetricWarning: Precision and F-score are ill-defined and being set to 0.0 in labels with no predicted samples.\n",
      "  'precision', 'predicted', average, warn_for)\n"
     ]
    }
   ],
   "source": [
    "import pandas as pd\n",
    "from sklearn.neural_network import MLPClassifier\n",
    "from sklearn.metrics import classification_report\n",
    "from sklearn.model_selection import train_test_split\n",
    "from sklearn.metrics import accuracy_score \n",
    "from sklearn.metrics import confusion_matrix\n",
    "from sklearn.preprocessing import StandardScaler\n",
    "\n",
    "datos = pd.read_csv(\"reduccion.csv\")\n",
    "X = datos.drop(labels=[\"APGAR5\",\"APGAR5R\",\"CIG_REC\", \"SEX\"],axis=1)\n",
    "Y = datos.APGAR5\n",
    "\n",
    "X_train, X_test, y_train, y_test = train_test_split(X, Y, test_size=.33, random_state=37, stratify=Y)\n",
    "\n",
    "clf = MLPClassifier(solver='lbfgs', alpha=1e-5, hidden_layer_sizes=(5, 2), random_state=1)\n",
    "\n",
    "scaler = StandardScaler()\n",
    "scaler.fit(X_train)\n",
    "\n",
    "X_train = scaler.transform(X_train)  \n",
    "X_test = scaler.transform(X_test)\n",
    "\n",
    "clf.fit(X_train, y_train)\n",
    "\n",
    "y_pred = clf.predict(X_test)\n",
    "\n",
    "print(\"Accuracy en Red Neuronal:\", accuracy_score(y_test, y_pred))\n",
    "print(classification_report(y_test, y_pred))\n",
    "print(confusion_matrix (y_test, y_pred))"
   ]
  },
  {
   "cell_type": "markdown",
   "metadata": {},
   "source": [
    "Explicación redes neuronales\n",
    "En general, las redes neuronales no brindan resultados buenos para datos en los cuales las clases están desbalanceadas. En nuestro caso, la clase de Apgar = 9 posee un 89% de los datos y los demás se dividen entre los Apgar >= 5, quedando una cantidad ínfima para los datos cercanos a 1. Dicho esto, podemos reflejar en los resultados previos: Se obtienen precision, recall y f1-score igual a 0 en todos los Apgar distinto de 9, es decir la red neuronal no logró predecir datos que sean distintos a este valor del apgar."
   ]
  },
  {
   "cell_type": "markdown",
   "metadata": {},
   "source": [
    "### Red Neuronal Con Nivelación de Clases"
   ]
  },
  {
   "cell_type": "code",
   "execution_count": 22,
   "metadata": {
    "scrolled": true
   },
   "outputs": [
    {
     "name": "stdout",
     "output_type": "stream",
     "text": [
      "Accuracy en Redes Neuronales NDC: 0.436895642346\n",
      "             precision    recall  f1-score   support\n",
      "\n",
      "          1       0.00      0.00      0.00       339\n",
      "          2       0.38      0.05      0.09       336\n",
      "          3       0.00      0.00      0.00       336\n",
      "          4       0.00      0.00      0.00       344\n",
      "          5       0.00      0.00      0.00       366\n",
      "          6       0.00      0.00      0.00       366\n",
      "          7       0.00      0.00      0.00       482\n",
      "          8       0.00      0.00      0.00       975\n",
      "          9       0.44      1.00      0.61      3465\n",
      "         10       0.00      0.00      0.00       832\n",
      "         99       1.00      0.09      0.17       122\n",
      "\n",
      "avg / total       0.22      0.44      0.27      7963\n",
      "\n",
      "[[   0    0    0    0    0    0    0    0  339    0    0]\n",
      " [   0   18    0    0    0    0    0    0  318    0    0]\n",
      " [   0    0    0    0    0    0    0    0  336    0    0]\n",
      " [   0    0    0    0    0    0    0    0  344    0    0]\n",
      " [   0    0    0    0    0    0    0    0  366    0    0]\n",
      " [   0    4    0    0    0    0    0    0  362    0    0]\n",
      " [   0    0    0    0    0    0    0    0  482    0    0]\n",
      " [   0    5    0    0    0    0    0    0  970    0    0]\n",
      " [   0   15    0    0    0    0    0    0 3450    0    0]\n",
      " [   0    2    0    0    0    0    0    0  830    0    0]\n",
      " [   0    4    0    0    0    0    0    0  107    0   11]]\n"
     ]
    },
    {
     "name": "stderr",
     "output_type": "stream",
     "text": [
      "D:\\Anaconda3\\lib\\site-packages\\sklearn\\metrics\\classification.py:1113: UndefinedMetricWarning: Precision and F-score are ill-defined and being set to 0.0 in labels with no predicted samples.\n",
      "  'precision', 'predicted', average, warn_for)\n"
     ]
    }
   ],
   "source": [
    "\n",
    "X = data_oversampled.drop(labels=[\"APGAR5\",\"APGAR5R\",\"CIG_REC\",\"SEX\"],axis=1)\n",
    "Y = data_oversampled.APGAR5\n",
    "\n",
    "X_train, X_test, y_train, y_test = train_test_split(X, Y, test_size=.33, random_state=37, stratify=Y)\n",
    "\n",
    "clf = MLPClassifier(solver='lbfgs', alpha=1e-5, hidden_layer_sizes=(5, 2), random_state=1)\n",
    "\n",
    "scaler = StandardScaler()\n",
    "scaler.fit(X_train)\n",
    "\n",
    "X_train = scaler.transform(X_train)  \n",
    "X_test = scaler.transform(X_test)\n",
    "\n",
    "clf.fit(X_train, y_train)\n",
    "\n",
    "y_pred = clf.predict(X_test)\n",
    "\n",
    "print(\"Accuracy en Redes Neuronales NDC:\", accuracy_score(y_test, y_pred))\n",
    "print(classification_report(y_test, y_pred))\n",
    "print(confusion_matrix (y_test, y_pred))"
   ]
  },
  {
   "cell_type": "markdown",
   "metadata": {},
   "source": [
    "Ya revisando los resultados con la nivelación de las clases, podemos concluir que definitivamente redes neuronales no es un buen clasificador para este dataset. Se observa que la red no es capáz de aprender algún patrón que identifique la salud de un recién nacido en base a los datos sociales de la madre."
   ]
  },
  {
   "cell_type": "markdown",
   "metadata": {},
   "source": [
    "## 4.Support Vector Machines"
   ]
  },
  {
   "cell_type": "code",
   "execution_count": 17,
   "metadata": {
    "scrolled": true
   },
   "outputs": [
    {
     "name": "stdout",
     "output_type": "stream",
     "text": [
      "Accuracy en test set: 0.888086642599\n",
      "             precision    recall  f1-score   support\n",
      "\n",
      "          1       0.00      0.00      0.00         9\n",
      "          2       0.00      0.00      0.00         6\n",
      "          3       0.00      0.00      0.00         6\n",
      "          4       0.00      0.00      0.00        14\n",
      "          5       0.00      0.00      0.00        36\n",
      "          6       0.00      0.00      0.00        36\n",
      "          7       0.00      0.00      0.00       152\n",
      "          8       0.00      0.00      0.00       645\n",
      "          9       0.89      1.00      0.94     12045\n",
      "         10       0.00      0.00      0.00       502\n",
      "         99       1.00      0.07      0.14       122\n",
      "\n",
      "avg / total       0.80      0.89      0.84     13573\n",
      "\n",
      "[[    0     0     0     0     0     0     0     0     9     0     0]\n",
      " [    0     0     0     0     0     0     0     0     6     0     0]\n",
      " [    0     0     0     0     0     0     0     0     6     0     0]\n",
      " [    0     0     0     0     0     0     0     0    14     0     0]\n",
      " [    0     0     0     0     0     0     0     0    36     0     0]\n",
      " [    0     0     0     0     0     0     0     0    36     0     0]\n",
      " [    0     0     0     0     0     0     0     0   152     0     0]\n",
      " [    0     0     0     0     0     0     0     0   645     0     0]\n",
      " [    0     0     0     0     0     0     0     0 12045     0     0]\n",
      " [    0     0     0     0     0     0     0     0   502     0     0]\n",
      " [    0     0     0     0     0     0     0     0   113     0     9]]\n"
     ]
    },
    {
     "name": "stderr",
     "output_type": "stream",
     "text": [
      "D:\\Anaconda3\\lib\\site-packages\\sklearn\\metrics\\classification.py:1113: UndefinedMetricWarning: Precision and F-score are ill-defined and being set to 0.0 in labels with no predicted samples.\n",
      "  'precision', 'predicted', average, warn_for)\n"
     ]
    }
   ],
   "source": [
    "import pandas as pd\n",
    "from sklearn import svm\n",
    "from sklearn.metrics import classification_report\n",
    "from sklearn.model_selection import train_test_split\n",
    "from sklearn.metrics import accuracy_score\n",
    "from sklearn.metrics import confusion_matrix\n",
    "\n",
    "datos = pd.read_csv(\"reduccion.csv\")\n",
    "X = datos.drop(labels=[\"APGAR5\",\"APGAR5R\",\"CIG_REC\", \"SEX\"],axis=1)\n",
    "Y = datos.APGAR5\n",
    "\n",
    "X_train, X_test, y_train, y_test = train_test_split(X, Y, test_size=.33, random_state=37, stratify=Y)\n",
    "\n",
    "clf = svm.SVC()\n",
    "\n",
    "clf.fit(X_train, y_train)\n",
    "\n",
    "y_pred = clf.predict(X_test)\n",
    "\n",
    "print(\"Accuracy en test set:\", accuracy_score(y_test, y_pred))\n",
    "print(classification_report(y_test, y_pred))\n",
    "print(confusion_matrix (y_test, y_pred))"
   ]
  },
  {
   "cell_type": "markdown",
   "metadata": {},
   "source": [
    "### SVM Con Nivelación de Clases"
   ]
  },
  {
   "cell_type": "code",
   "execution_count": 16,
   "metadata": {
    "scrolled": true
   },
   "outputs": [
    {
     "name": "stdout",
     "output_type": "stream",
     "text": [
      "Accuracy en test set: 0.470300138139\n",
      "             precision    recall  f1-score   support\n",
      "\n",
      "          1       0.63      0.40      0.49       339\n",
      "          2       0.77      0.20      0.31       336\n",
      "          3       0.56      0.31      0.40       336\n",
      "          4       0.67      0.11      0.19       344\n",
      "          5       0.56      0.06      0.11       366\n",
      "          6       0.47      0.04      0.07       366\n",
      "          7       0.83      0.01      0.02       482\n",
      "          8       0.22      0.03      0.05       975\n",
      "          9       0.46      0.96      0.62      3465\n",
      "         10       0.88      0.01      0.02       832\n",
      "         99       0.93      0.11      0.19       122\n",
      "\n",
      "avg / total       0.54      0.47      0.35      7963\n",
      "\n",
      "[[ 137    0    0    0    0    0    0    0  202    0    0]\n",
      " [   0   66   19    0    0    0    0    0  251    0    0]\n",
      " [   0    0  103    0    0    0    0    0  233    0    0]\n",
      " [  18    0    0   39    0    0    0    0  287    0    0]\n",
      " [   0    3    5    0   22    0    0    4  332    0    0]\n",
      " [   0    0    4    0    0   14    0    9  339    0    0]\n",
      " [   3    0    9    8    2    5    5   14  436    0    0]\n",
      " [   8    4   18    1    5    2    0   26  911    0    0]\n",
      " [  31   12   24   10   10    7    1   55 3313    1    1]\n",
      " [  19    0    2    0    0    2    0    3  799    7    0]\n",
      " [   0    1    1    0    0    0    0    5  102    0   13]]\n"
     ]
    }
   ],
   "source": [
    "\n",
    "X = data_oversampled.drop(labels=[\"APGAR5\",\"APGAR5R\",\"CIG_REC\",\"SEX\"], axis=1)\n",
    "Y = data_oversampled.APGAR5\n",
    "\n",
    "X_train, X_test, y_train, y_test = train_test_split(X, Y, test_size=.33, random_state=37, stratify=Y)\n",
    "\n",
    "clf = svm.SVC()\n",
    "\n",
    "clf.fit(X_train, y_train)\n",
    "\n",
    "y_pred = clf.predict(X_test)\n",
    "\n",
    "print(\"Accuracy en test set:\", accuracy_score(y_test, y_pred))\n",
    "print(classification_report(y_test, y_pred))\n",
    "print(confusion_matrix (y_test, y_pred))"
   ]
  }
 ],
 "metadata": {
  "kernelspec": {
   "display_name": "Python 3",
   "language": "python",
   "name": "python3"
  },
  "language_info": {
   "codemirror_mode": {
    "name": "ipython",
    "version": 3
   },
   "file_extension": ".py",
   "mimetype": "text/x-python",
   "name": "python",
   "nbconvert_exporter": "python",
   "pygments_lexer": "ipython3",
   "version": "3.6.1"
  }
 },
 "nbformat": 4,
 "nbformat_minor": 2
}
