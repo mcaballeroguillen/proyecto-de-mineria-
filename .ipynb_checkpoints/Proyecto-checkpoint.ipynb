{
 "cells": [
  {
   "cell_type": "markdown",
   "metadata": {},
   "source": [
    "# **Informe Final** "
   ]
  },
  {
   "cell_type": "markdown",
   "metadata": {},
   "source": [
    "## 1. Introducción : \n",
    "\n",
    "En este proyecto abordaremos datos sobre el estudio y el cálculo de la puntuación de Apgar en infantes recién nacidos.\n",
    "\n",
    "El exámen de Apgar es el primer diagnóstico que se le realiza a un recién nacido, en distintos periodos de tiempo. La primera y la segunda observación se realizan un minuto y cinco minutos posteriores al nacimiento del feto. Mediante este examen, se determina de la manera más rápida el estado físico y salud general del recién nacido como también si es que requiere de algún procedimiento posterior al nacimiento.\n",
    "\n",
    "Para lograr de manera exitosa una predicción de esta puntuación, se obtiene un dataset con los antecedentes socioeconómicos de ambos padres del infante, por lo que se busca alguna correlación entre las actividades diarias y malas prácticas de los padres frente a su descendencia.\n",
    "\n",
    "A partir de las metodologías vistas en clases, se busca generar estadísticas y correlaciones relevantes a las costumbres pecaminosas de la sociedad y nuestra futura generación. De esta forma, abordaremos una postura crítica y disuasiva, con una finalidad de generar el cambio necesario para cuidar y preservar nuestro futuro.\n",
    "\n",
    "La segunda postura frente a este trabajo es dar un mayor lapso temporal a los potencialmente padres. Esto quiere decir, a partir de nuestro trabajo se podrá identificar problemáticas en algún recién nacido, sin si quiera tener la etapa del embarazo completa. De forma más clara, conociendo los datos socioeconómicos personales, tales como ingreso, estrato social, estudios, escolaridad, empleo, hogar geográfico, por mencionar algunos, se llegará a una noción del estado de salud de una futura guagua.\n",
    "\n",
    "(3)Temática o problemática central y describir cómo se abordará inicialmente.\n",
    "\n",
    "La problemática que se presenta en un inicio es la incertidumbre de la generalización de nuestras predicciones acerca del examen de Apgar. Si bien, se logrará predecir esta puntuación en base a numerosos factores, ¿qué tan generalizable es la salud de un recién nacido? ¿Se puede concluir al respecto de su vida completa? O ¿sólo es una advertencia al momento de dar a luz? ¿Se podrán tomar decisiones como por ejemplo, no tener un bebé porque existe conocimiento que nacerá con algún defecto? Siendo esta la gran problemática, nos enfocaremos en estudiar relaciones del estado de salud inicial de un bebé con el desempeño de su vida.\n"
   ]
  },
  {
   "cell_type": "markdown",
   "metadata": {},
   "source": [
    "## 2. Descripción de los datos :\n",
    "\n",
    "        "
   ]
  },
  {
   "cell_type": "markdown",
   "metadata": {
    "collapsed": true
   },
   "source": [
    "## 3.Exploración inicial:"
   ]
  },
  {
   "cell_type": "code",
   "execution_count": 23,
   "metadata": {},
   "outputs": [
    {
     "name": "stderr",
     "output_type": "stream",
     "text": [
      "/home/marco/anaconda2/envs/py36/lib/python3.6/site-packages/IPython/core/interactiveshell.py:2717: DtypeWarning: Columns (27) have mixed types. Specify dtype option on import or set low_memory=False.\n",
      "  interactivity=interactivity, compiler=compiler, result=result)\n"
     ]
    },
    {
     "name": "stdout",
     "output_type": "stream",
     "text": [
      "FILLER1           41130\n",
      "REVISION          41130\n",
      "FILLER2           41130\n",
      "DOB_YY            41130\n",
      "DOB_MM            41130\n",
      "FILLER3           41130\n",
      "DOB_WK            41130\n",
      "OTERR             41130\n",
      "FILLER4           41130\n",
      "OCNTY             41130\n",
      "OCNTYPOP          41130\n",
      "BFACIL            41130\n",
      "UBFACIL           41130\n",
      "FILLER5           41130\n",
      "BFACIL3           41130\n",
      "FILLER6           41130\n",
      "MAGE_IMPFLG       41130\n",
      "MAGE_REPFLG       41130\n",
      "MAGER             41130\n",
      "MAGER14           41130\n",
      "MAGER9            41130\n",
      "MBCNTRY           41130\n",
      "FILLER7           41130\n",
      "MRTERR            41130\n",
      "FILLER8           41130\n",
      "MRCNTY            41130\n",
      "FILLER9           41130\n",
      "RCNTY_POP         41130\n",
      "FILLER10          41130\n",
      "RECTYPE           41130\n",
      "                  ...  \n",
      "F_URF_ECLAMP      41130\n",
      "FILLER70          41130\n",
      "F_UOB_INDUCT      41130\n",
      "FILLER71          41130\n",
      "F_UOB_TOCOL       41130\n",
      "FILLER72          41130\n",
      "F_ULD_MECONIUM    41130\n",
      "FILLER73          41130\n",
      "F_ULD_PRECIP      41130\n",
      "FILLER74          41130\n",
      "F_ULD_BREECH      41130\n",
      "FILLER75          41130\n",
      "F_U_VAGINAL       41130\n",
      "F_U_VBAC          41130\n",
      "F_U_PRIMAC        41130\n",
      "F_U_REPEAC        41130\n",
      "F_U_FORCEP        41130\n",
      "F_U_VACUUM        41130\n",
      "FILLER76          41130\n",
      "F_UCA_ANEN        41130\n",
      "F_UCA_SPINA       41130\n",
      "FILLER77          41130\n",
      "F_UCA_OMPHALO     41130\n",
      "FILLER78          41130\n",
      "F_UCA_CLEFTLP     41130\n",
      "FILLER79          41130\n",
      "F_UCA_HERNIA      41130\n",
      "FILLER80          41130\n",
      "F_UCA_DOWNS       41130\n",
      "FILLER81          41130\n",
      "Length: 314, dtype: int64\n"
     ]
    }
   ],
   "source": [
    "    import pandas as pd\n",
    "    df2=pd.read_csv(\"nchs_birth_2011.csv\")\n",
    "    cnt = df2.count()\n",
    "    print (cnt)"
   ]
  },
  {
   "cell_type": "markdown",
   "metadata": {},
   "source": [
    "Como se puede observar el dataset contiene 314 atributos y 41130 tuplas. Se redimensionó quitando los atributos que no sería importantes para nuestro estudio como ser los datos del bebe al nacer(peso,largo,etc) por que la idea del proyecto es predecir el estado del bebe con los datos de los padres; y en ese momento no es posible saber con que peso va nacer el bebe.\n",
    "\n",
    "Además este dataset contaba que la peculiaridad que varios atributos como ser edad, estrato social, escolaridad entre otros, aparecían en la tabla con diferentes escalas, ejemplo de esto: \n",
    "\n",
    "\tEl campo MAGER es la edad de la madre como tal, pero además estaba el campo MAGER9 que  también es la edad de la mamá  solo que estas esta agrupadas en 9 clases (menos 15 años,15-19 años,20-24 años, …) , igual esta MAGER14(edad de la madre en 14 clases) por lo que solo se puede tomar uno de estos campos, ya que son el mismo atributo solo que escalado de otra manera. "
   ]
  },
  {
   "cell_type": "code",
   "execution_count": 33,
   "metadata": {},
   "outputs": [
    {
     "name": "stdout",
     "output_type": "stream",
     "text": [
      "Campos Finales\n",
      "OCNTY        40760\n",
      "OCNTYPOP     40760\n",
      "BFACIL3      40760\n",
      "MAGER14      40760\n",
      "MAGER9       40760\n",
      "MRACEHISP    40760\n",
      "MAR          40760\n",
      "MEDUC        40760\n",
      "CIG_REC      40760\n",
      "APGAR5       40760\n",
      "APGAR5R      40760\n",
      "SEX          40760\n",
      "dtype: int64\n"
     ]
    }
   ],
   "source": [
    "    import pandas as pd\n",
    "    df1=pd.read_csv(\"reducción1.csv\")\n",
    "    cnt = df1.count()\n",
    "    print(\"Campos Finales\")\n",
    "    print (cnt)"
   ]
  },
  {
   "cell_type": "markdown",
   "metadata": {},
   "source": [
    "## 4.Estadísticas y Gráficos:"
   ]
  },
  {
   "cell_type": "code",
   "execution_count": 34,
   "metadata": {
    "scrolled": true
   },
   "outputs": [
    {
     "data": {
      "image/png": "[encoded data removed]",
      "text/plain": [
       "<matplotlib.figure.Figure at 0x7f6e7e0b0ef0>"
      ]
     },
     "metadata": {},
     "output_type": "display_data"
    }
   ],
   "source": [
    "%matplotlib inline\n",
    "import matplotlib.pyplot as plt\n",
    "df1.groupby('MEDUC').mean().loc[:,['APGAR5']].plot()\n",
    "plt.show()"
   ]
  },
  {
   "cell_type": "markdown",
   "metadata": {},
   "source": [
    "Gráfico que muestra que según aumenta la escolaridad de la madre la media del examen ABGAR del bb aumenta"
   ]
  },
  {
   "cell_type": "markdown",
   "metadata": {},
   "source": [
    "# 5.Trabajos Relacionados:"
   ]
  },
  {
   "cell_type": "markdown",
   "metadata": {},
   "source": [
    "\n",
    "# The Apgar Score and Infant Mortality\n",
    "\n",
    "\n",
    "### Objective\n",
    "\n",
    "To evaluate if the Apgar score remains pertinent in contemporary practice after more than 50 years of wide use, and to assess the value of the Apgar score in predicting infant survival, expanding from the neonatal to the post-neonatal period.\n",
    "\n",
    "#### Methods\n",
    "\n",
    "The U.S. linked live birth and infant death dataset was used, which included 25,168,052 singleton births and 768,305 twin births. The outcome of interest was infant death within 1 year after birth. Cox proportional hazard-model was used to estimate risk ratio of infant mortality with different Apgar scores.\n",
    "\n",
    "#### Results\n",
    "\n",
    "Among births with a very low Apgar score at five minutes (1–3), the neonatal and post-neonatal mortality rates remained high until term (≥ 37 weeks). On the other hand, among births with a high Apgar score (≥7), neonatal and post-neonatal mortality rate decreased progressively with gestational age. Non-Hispanic White had a consistently higher neonatal mortality than non-Hispanic Black in both preterm and term births. However, for post-neonatal mortality, Black had significantly higher rate than White. The pattern of changes in neonatal and post-neonatal mortality by Apgar score in twin births is essentially the same as that in singleton births.\n",
    "\n",
    "#### Conclusions\n",
    "\n",
    "The Apgar score system has continuing value for predicting neonatal and post-neonatal adverse outcomes in term as well as preterm infants, and is applicable to twins and in various race/ethnic groups.\n",
    "\n",
    "Reference https://www.ncbi.nlm.nih.gov/pmc/articles/PMC3726736/\n"
   ]
  },
  {
   "cell_type": "markdown",
   "metadata": {},
   "source": []
  }
 ],
 "metadata": {
  "kernelspec": {
   "display_name": "Python 3",
   "language": "python",
   "name": "python3"
  },
  "language_info": {
   "codemirror_mode": {
    "name": "ipython",
    "version": 3
   },
   "file_extension": ".py",
   "mimetype": "text/x-python",
   "name": "python",
   "nbconvert_exporter": "python",
   "pygments_lexer": "ipython3",
   "version": "3.6.1"
  }
 },
 "nbformat": 4,
 "nbformat_minor": 2
}
