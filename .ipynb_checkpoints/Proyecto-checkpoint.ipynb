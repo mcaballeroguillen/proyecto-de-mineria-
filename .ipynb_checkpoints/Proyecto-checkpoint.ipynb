{
 "cells": [
  {
   "cell_type": "markdown",
   "metadata": {},
   "source": [
    "# **Predicción de la puntuación de Apgar** "
   ]
  },
  {
   "cell_type": "markdown",
   "metadata": {},
   "source": [
    "## 1. Introducción : \n",
    "\n",
    "En este proyecto abordaremos datos sobre el estudio y el cálculo de la puntuación de Apgar en infantes recién nacidos.\n",
    "\n",
    "El exámen de Apgar es el primer diagnóstico que se realiza a un recién nacido, en distintos periodos de tiempo. La primera y la segunda observación se realizan un minuto y cinco minutos posteriores al nacimiento del feto. Mediante este examen, se determina de la manera más rápida el estado físico y salud general del recién nacido como también si es que requiere de alguna intervención posterior al nacimiento.\n",
    "\n",
    "Para lograr de manera exitosa una predicción de esta puntuación, se obtiene un dataset con los antecedentes socioeconómicos de ambos padres del infante, por lo que se busca alguna correlación entre las actividades diarias y malas prácticas de los padres frente a su descendencia.\n",
    "\n",
    "A partir de las metodologías vistas en clases, se busca generar estadísticas y correlaciones relevantes a las costumbres pecaminosas de la sociedad y nuestra futura generación. De esta forma, abordaremos una postura crítica y disuasiva, con una finalidad de generar el cambio necesario para cuidar y preservar nuestro futuro.\n",
    "\n",
    "La segunda postura frente a este trabajo es dar un mayor lapso temporal a los potencialmente padres. Esto quiere decir, a partir de nuestro trabajo se podrá identificar problemáticas en algún recién nacido, sin si quiera tener la etapa del embarazo completa. De manera más clara, conociendo los datos socioeconómicos, tales como ingreso, estrato social, estudios, escolaridad, empleo, hogar geográfico, por mencionar algunos, se llegará a una noción del estado de salud de una futura guagua.\n",
    "\n",
    "La problemática que se presenta en un inicio es la incertidumbre de la generalización de nuestras predicciones acerca del examen de Apgar. Si bien, se logrará predecir esta puntuación en base a numerosos factores, ¿qué tan generalizable es la salud de un recién nacido? ¿Se puede concluir al respecto de su vida completa? O ¿sólo es una advertencia al momento de dar a luz? ¿Se podrán tomar decisiones como por ejemplo, no tener un bebé porque existe conocimiento que nacerá con algún defecto? Siendo esta la gran problemática, nos enfocaremos en estudiar relaciones del estado de salud inicial de un bebé con los aspectos socio-económicos de los padres, para posteriormente relacionar la puntuación de Apgar con la calidad de vida de una persona.\n"
   ]
  },
  {
   "cell_type": "markdown",
   "metadata": {},
   "source": [
    "## 2. Descripción de los datos :   \n",
    "        \n",
    "        "
   ]
  },
  {
   "cell_type": "markdown",
   "metadata": {},
   "source": [
    " Atributos con los que trabajaremos:\n",
    "        * OCNTYPOP: Población del sector geográfico de la persona en medición.\n",
    "        * BFacil3: Institución en donde se dio el parto.*\n",
    "                   Posibles valores: Hospital, ~Hospital, No se sabe.\n",
    "        * Mager14: Escala de edad de la madre en intervalos pequeños.\n",
    "        * Mager9: Escala de edad de la madre en intervalos generales.\n",
    "        * MRACEHISP: Raza de la madre según origen Hispáno.\n",
    "                    Algunos valores: Mexicana, Puerto Riqueña, Cubana, América del centro/sur\n",
    "        * MAR: Estatus de matrimonio. Valores: Sí, No, No se sabe.\n",
    "        *MEDUC: Escolaridad de la madre.\n",
    "        *CIG_REC: Dato que representa si la madre fuma o no.\n",
    "        *APGAR5: Puntuación Apgar del recién nacido. Este es el valor que deseamos predecir.\n",
    "        *Sex: Género del recién nacido.\n"
   ]
  },
  {
   "cell_type": "markdown",
   "metadata": {
    "collapsed": true
   },
   "source": [
    "## 3.Exploración inicial:"
   ]
  },
  {
   "cell_type": "code",
   "execution_count": 15,
   "metadata": {},
   "outputs": [
    {
     "name": "stderr",
     "output_type": "stream",
     "text": [
      "D:\\Anaconda3\\lib\\site-packages\\IPython\\core\\interactiveshell.py:2717: DtypeWarning: Columns (27) have mixed types. Specify dtype option on import or set low_memory=False.\n",
      "  interactivity=interactivity, compiler=compiler, result=result)\n"
     ]
    },
    {
     "name": "stdout",
     "output_type": "stream",
     "text": [
      "FILLER1           41130\n",
      "REVISION          41130\n",
      "FILLER2           41130\n",
      "DOB_YY            41130\n",
      "DOB_MM            41130\n",
      "FILLER3           41130\n",
      "DOB_WK            41130\n",
      "OTERR             41130\n",
      "FILLER4           41130\n",
      "OCNTY             41130\n",
      "OCNTYPOP          41130\n",
      "BFACIL            41130\n",
      "UBFACIL           41130\n",
      "FILLER5           41130\n",
      "BFACIL3           41130\n",
      "FILLER6           41130\n",
      "MAGE_IMPFLG       41130\n",
      "MAGE_REPFLG       41130\n",
      "MAGER             41130\n",
      "MAGER14           41130\n",
      "MAGER9            41130\n",
      "MBCNTRY           41130\n",
      "FILLER7           41130\n",
      "MRTERR            41130\n",
      "FILLER8           41130\n",
      "MRCNTY            41130\n",
      "FILLER9           41130\n",
      "RCNTY_POP         41130\n",
      "FILLER10          41130\n",
      "RECTYPE           41130\n",
      "                  ...  \n",
      "F_URF_ECLAMP      41130\n",
      "FILLER70          41130\n",
      "F_UOB_INDUCT      41130\n",
      "FILLER71          41130\n",
      "F_UOB_TOCOL       41130\n",
      "FILLER72          41130\n",
      "F_ULD_MECONIUM    41130\n",
      "FILLER73          41130\n",
      "F_ULD_PRECIP      41130\n",
      "FILLER74          41130\n",
      "F_ULD_BREECH      41130\n",
      "FILLER75          41130\n",
      "F_U_VAGINAL       41130\n",
      "F_U_VBAC          41130\n",
      "F_U_PRIMAC        41130\n",
      "F_U_REPEAC        41130\n",
      "F_U_FORCEP        41130\n",
      "F_U_VACUUM        41130\n",
      "FILLER76          41130\n",
      "F_UCA_ANEN        41130\n",
      "F_UCA_SPINA       41130\n",
      "FILLER77          41130\n",
      "F_UCA_OMPHALO     41130\n",
      "FILLER78          41130\n",
      "F_UCA_CLEFTLP     41130\n",
      "FILLER79          41130\n",
      "F_UCA_HERNIA      41130\n",
      "FILLER80          41130\n",
      "F_UCA_DOWNS       41130\n",
      "FILLER81          41130\n",
      "Length: 314, dtype: int64\n"
     ]
    }
   ],
   "source": [
    "    import pandas as pd\n",
    "    df2=pd.read_csv(\"nchs_birth_2011.csv\")\n",
    "    cnt = df2.count()\n",
    "    print (cnt)"
   ]
  },
  {
   "cell_type": "markdown",
   "metadata": {},
   "source": [
    "Como se puede observar el dataset contiene 314 atributos y 41130 tuplas. Se redimensionó quitando los atributos que no serían importantes para nuestro estudio como ser los datos del bebé al nacer(peso, largo, dimensiones físicas) ya que la idea del proyecto es predecir el estado del bebé con los datos de los padres; y en ese momento no es posible saber más información del bebé.\n",
    "\n",
    "Además este dataset contaba con la peculiaridad de que varios atributos como ser la edad, el estrato social, nivel de escolaridad, entre otros, aparecían en la tabla con diferentes escalas, por ejemplo:\n",
    "\n",
    "\tEl campo MAGER es la edad de la madre como tal, pero además está el campo MAGER9 que  también es la edad de la mamá  solo que están agrupadas en 9 clases (menos 15 años,15-19 años,20-24 años, …) , igual está MAGER14 (edad de la madre en 14 clases) por lo que solo se considera uno de estos campos, ya que son el mismo atributo en un escalado diferente. "
   ]
  },
  {
   "cell_type": "code",
   "execution_count": 1,
   "metadata": {},
   "outputs": [
    {
     "name": "stdout",
     "output_type": "stream",
     "text": [
      "Campos Finales\n",
      "OCNTY        41130\n",
      "OCNTYPOP     41130\n",
      "BFACIL3      41130\n",
      "MAGER14      41130\n",
      "MAGER9       41130\n",
      "MRACEHISP    41130\n",
      "MAR          41130\n",
      "MEDUC        41130\n",
      "CIG_REC      41130\n",
      "APGAR5       41130\n",
      "APGAR5R      41130\n",
      "SEX          41130\n",
      "dtype: int64\n"
     ]
    }
   ],
   "source": [
    "    import pandas as pd\n",
    "    df1=pd.read_csv(\"reducción .csv\")\n",
    "    cnt = df1.count()\n",
    "    print(\"Campos Finales\")\n",
    "    print (cnt)"
   ]
  },
  {
   "cell_type": "markdown",
   "metadata": {},
   "source": [
    "## 4.Estadísticas y Gráficos:"
   ]
  },
  {
   "cell_type": "code",
   "execution_count": 2,
   "metadata": {},
   "outputs": [
    {
     "data": {
      "image/png": "[encoded data removed]",
      "text/plain": [
       "<matplotlib.figure.Figure at 0x7f382fe17518>"
      ]
     },
     "metadata": {},
     "output_type": "display_data"
    }
   ],
   "source": [
    "%matplotlib inline\n",
    "import matplotlib.pyplot as plt\n",
    "df1[(df1['APGAR5'] != 99)].groupby('MEDUC').mean().loc[:,['APGAR5']].plot()\n",
    "plt.show()"
   ]
  },
  {
   "cell_type": "markdown",
   "metadata": {},
   "source": [
    "Gráfico que muestra la relación entre la escolaridad de la madre y la medida del examen APGAR del bebé. Podemos observar a mayor escolaridad, más saludable nacen los bebés."
   ]
  },
  {
   "cell_type": "code",
   "execution_count": 3,
   "metadata": {},
   "outputs": [
    {
     "data": {
      "image/png": "[encoded data removed]",
      "text/plain": [
       "<matplotlib.figure.Figure at 0x7f382c807c18>"
      ]
     },
     "metadata": {},
     "output_type": "display_data"
    }
   ],
   "source": [
    "%matplotlib inline\n",
    "import matplotlib.pyplot as plt\n",
    "df1[(df1['APGAR5'] != 99)].groupby('MAGER9').mean().loc[:,['APGAR5']].plot()\n",
    "plt.show()"
   ]
  },
  {
   "cell_type": "markdown",
   "metadata": {},
   "source": [
    "Gráfico que muestra que entre los 15 a 34 años de edad de la madre, aumenta la puntuación de Apgar, sin embargo en el intervalo de 35 a 44 años, la puntuación disminuye considerablemente y  finalmente retoma en el intervalo 45 a 50 años. "
   ]
  },
  {
   "cell_type": "code",
   "execution_count": 21,
   "metadata": {},
   "outputs": [
    {
     "data": {
      "image/png": "[encoded data removed]",
      "text/plain": [
       "<matplotlib.figure.Figure at 0x7f3821f3e588>"
      ]
     },
     "metadata": {},
     "output_type": "display_data"
    }
   ],
   "source": [
    "%matplotlib inline\n",
    "import matplotlib.pyplot as plt\n",
    "df1[(df1['APGAR5'] != 99)].groupby('MRACEHISP').mean().loc[:,['APGAR5']].plot()\n",
    "plt.show()"
   ]
  },
  {
   "cell_type": "markdown",
   "metadata": {},
   "source": [
    "Gráfico que muestra que las madres cubanas son las que dieron a luz a los bebes más saludables, y que las madres no hispanas negras son las tienen la peor calificación. "
   ]
  },
  {
   "cell_type": "markdown",
   "metadata": {},
   "source": [
    "## 5.Trabajos Relacionados:"
   ]
  },
  {
   "cell_type": "markdown",
   "metadata": {},
   "source": [
    "\n",
    "### Objetivo\n",
    "\n",
    "Evaluar si la puntuación de Apgar sigue siendo pertinente en la práctica contemporánea después de más de 50 años de amplio uso y evaluar el valor de la puntuación de Apgar en la predicción de la supervivencia infantil, expandiéndose desde el período neonatal hasta el post-neonatal.\n",
    "\n",
    "### Métodos\n",
    "\n",
    "Se utilizó el conjunto de datos sobre nacimientos vivos y mortalidad infantil, que incluía 25.168.052 nacimientos únicos y 768.305 partos gemelos. El resultado del interés fue la muerte del bebé dentro de un año después del nacimiento. Se utilizó el modelo de riesgo proporcional de Cox para estimar la razón de riesgo de mortalidad infantil con diferentes puntuaciones de Apgar.\n",
    "\n",
    "### Resultados\n",
    "\n",
    "Entre los nacimientos con una puntuación de Apgar muy baja a los cinco minutos (1-3), las tasas de mortalidad neonatal y post neonatal permanecieron altas hasta el término (≥ 37 semanas). Por otro lado, entre los nacimientos con alto puntaje de Apgar (≥7), la tasa de mortalidad neonatal y post neonatal disminuyó progresivamente con la edad gestacional. Los blancos no hispanos tuvieron una mortalidad neonatal consistentemente mayor que la de los no hispanos negros tanto en nacimientos prematuros como de término. Sin embargo, para la mortalidad post-neonatal, el negro tenía una tasa significativamente mayor que el blanco. El patrón de los cambios en la mortalidad neonatal y post-neonatal por puntuación de Apgar en nacimientos gemelos es esencialmente el mismo que en los nacimientos únicos.\n",
    "\n",
    "### Conclusiones\n",
    "\n",
    "El sistema de puntuación de Apgar tiene un valor continuo para predecir los resultados adversos neonatales y posneonatales tanto en el término como en los prematuros, y es aplicable a gemelos y en varios grupos raciales o étnicos.\n",
    "\n",
    "\n",
    "referencia: https://www.ncbi.nlm.nih.gov/pmc/articles/PMC3726736/"
   ]
  },
  {
   "cell_type": "markdown",
   "metadata": {
    "collapsed": true
   },
   "source": [
    "# Metodos de Clasificación:\n"
   ]
  },
  {
   "cell_type": "markdown",
   "metadata": {},
   "source": [
    "## 1. Árbol de decisión"
   ]
  },
  {
   "cell_type": "code",
   "execution_count": 5,
   "metadata": {},
   "outputs": [
    {
     "name": "stdout",
     "output_type": "stream",
     "text": [
      "Accuracy en test set: 0.882118912547\n",
      "             precision    recall  f1-score   support\n",
      "\n",
      "          1       0.00      0.00      0.00         9\n",
      "          2       0.00      0.00      0.00         6\n",
      "          3       0.00      0.00      0.00         6\n",
      "          4       0.00      0.00      0.00        14\n",
      "          5       0.00      0.00      0.00        36\n",
      "          6       0.00      0.00      0.00        36\n",
      "          7       0.00      0.00      0.00       152\n",
      "          8       0.09      0.01      0.02       645\n",
      "          9       0.89      0.99      0.94     12045\n",
      "         10       0.24      0.01      0.02       502\n",
      "         99       0.76      0.11      0.19       122\n",
      "\n",
      "avg / total       0.81      0.88      0.83     13573\n",
      "\n",
      "[[    0     0     0     0     0     0     0     0     9     0     0]\n",
      " [    0     0     0     0     0     0     0     0     6     0     0]\n",
      " [    0     0     0     0     0     0     0     0     6     0     0]\n",
      " [    0     0     0     0     0     0     0     0    14     0     0]\n",
      " [    0     0     0     0     0     0     0     0    36     0     0]\n",
      " [    0     0     0     0     0     0     0     1    34     1     0]\n",
      " [    0     0     0     0     1     0     0     1   150     0     0]\n",
      " [    0     0     0     0     0     0     1     6   638     0     0]\n",
      " [    0     0     4     0     1     4     9    61 11950    12     4]\n",
      " [    0     0     0     0     0     0     0     1   497     4     0]\n",
      " [    0     0     0     0     0     0     0     0   109     0    13]]\n"
     ]
    },
    {
     "name": "stderr",
     "output_type": "stream",
     "text": [
      "/home/marco/anaconda2/envs/py36/lib/python3.6/site-packages/sklearn/metrics/classification.py:1113: UndefinedMetricWarning: Precision and F-score are ill-defined and being set to 0.0 in labels with no predicted samples.\n",
      "  'precision', 'predicted', average, warn_for)\n"
     ]
    }
   ],
   "source": [
    "from sklearn.model_selection import train_test_split\n",
    "from sklearn.tree import DecisionTreeClassifier\n",
    "from sklearn.metrics import accuracy_score \n",
    "from sklearn.metrics import confusion_matrix \n",
    "from sklearn.metrics import classification_report\n",
    "\n",
    "\n",
    "X= df1.drop(labels=[\"APGAR5\",\"APGAR5R\",\"CIG_REC\",\"SEX\"],axis=1)\n",
    "Y= df1.APGAR5\n",
    "X_train, X_test, y_train, y_test = train_test_split(X, Y, test_size=.33, random_state=37, stratify=Y)\n",
    "\n",
    "clf = DecisionTreeClassifier()\n",
    "clf.fit(X_train, y_train)\n",
    "\n",
    "y_pred = clf.predict(X_test)\n",
    "print(\"Accuracy en test set:\", accuracy_score(y_test, y_pred))\n",
    "print(classification_report(y_test, y_pred))\n",
    "print(confusion_matrix (y_test,y_pred))\n"
   ]
  },
  {
   "cell_type": "markdown",
   "metadata": {},
   "source": [
    "Explicación árbol de decisión"
   ]
  },
  {
   "cell_type": "markdown",
   "metadata": {},
   "source": [
    "## 2. Razonamiento en base a memoria"
   ]
  },
  {
   "cell_type": "code",
   "execution_count": null,
   "metadata": {
    "collapsed": true
   },
   "outputs": [],
   "source": []
  },
  {
   "cell_type": "markdown",
   "metadata": {},
   "source": [
    "Explicación razonamiento base a memoria"
   ]
  },
  {
   "cell_type": "markdown",
   "metadata": {},
   "source": [
    "## 3. Redes Neuronales "
   ]
  },
  {
   "cell_type": "code",
   "execution_count": 4,
   "metadata": {
    "scrolled": true
   },
   "outputs": [
    {
     "name": "stdout",
     "output_type": "stream",
     "text": [
      "Accuracy en test set: 0.887276210123\n",
      "             precision    recall  f1-score   support\n",
      "\n",
      "          1       0.00      0.00      0.00         9\n",
      "          2       0.00      0.00      0.00         6\n",
      "          3       0.00      0.00      0.00         6\n",
      "          4       0.00      0.00      0.00        14\n",
      "          5       0.00      0.00      0.00        36\n",
      "          6       0.00      0.00      0.00        36\n",
      "          7       0.00      0.00      0.00       152\n",
      "          8       0.00      0.00      0.00       645\n",
      "          9       0.89      1.00      0.94     12045\n",
      "         10       0.33      0.00      0.01       502\n",
      "         99       0.00      0.00      0.00       122\n",
      "\n",
      "avg / total       0.80      0.89      0.83     13573\n",
      "\n",
      "[[    0     0     0     0     0     0     0     0     9     0     0]\n",
      " [    0     0     0     0     0     0     0     0     6     0     0]\n",
      " [    0     0     0     0     0     0     0     0     6     0     0]\n",
      " [    0     0     0     0     0     0     0     0    14     0     0]\n",
      " [    0     0     0     0     0     0     0     0    36     0     0]\n",
      " [    0     0     0     0     0     0     0     0    36     0     0]\n",
      " [    0     0     0     0     0     0     0     0   152     0     0]\n",
      " [    0     0     0     0     0     0     0     0   645     0     0]\n",
      " [    0     0     0     0     0     0     0     0 12041     4     0]\n",
      " [    0     0     0     0     0     0     0     0   500     2     0]\n",
      " [    0     0     0     0     0     0     0     0   122     0     0]]\n"
     ]
    },
    {
     "name": "stderr",
     "output_type": "stream",
     "text": [
      "D:\\Anaconda3\\lib\\site-packages\\sklearn\\metrics\\classification.py:1113: UndefinedMetricWarning: Precision and F-score are ill-defined and being set to 0.0 in labels with no predicted samples.\n",
      "  'precision', 'predicted', average, warn_for)\n"
     ]
    }
   ],
   "source": [
    "import pandas as pd\n",
    "from sklearn.neural_network import MLPClassifier\n",
    "from sklearn.metrics import classification_report\n",
    "from sklearn.model_selection import train_test_split\n",
    "from sklearn.metrics import accuracy_score \n",
    "from sklearn.metrics import confusion_matrix\n",
    "from sklearn.preprocessing import StandardScaler\n",
    "\n",
    "datos = pd.read_csv(\"reduccion.csv\")\n",
    "X = datos.drop(labels=[\"APGAR5\",\"APGAR5R\",\"CIG_REC\"],axis=1)\n",
    "Y = datos.APGAR5\n",
    "\n",
    "X_train, X_test, y_train, y_test = train_test_split(X, Y, test_size=.33, random_state=37, stratify=Y)\n",
    "\n",
    "clf = MLPClassifier(solver='lbfgs', alpha=1e-5, hidden_layer_sizes=(5, 2), random_state=1)\n",
    "\n",
    "scaler = StandardScaler()\n",
    "scaler.fit(X_train)\n",
    "\n",
    "X_train = scaler.transform(X_train)  \n",
    "X_test = scaler.transform(X_test)\n",
    "\n",
    "clf.fit(X_train, y_train)\n",
    "\n",
    "y_pred = clf.predict(X_test)\n",
    "\n",
    "print(\"Accuracy en test set:\", accuracy_score(y_test, y_pred))\n",
    "print(classification_report(y_test, y_pred))\n",
    "print(confusion_matrix (y_test, y_pred))"
   ]
  },
  {
   "cell_type": "markdown",
   "metadata": {},
   "source": [
    "Explicación redes neuronales\n",
    "En general, las redes neuronales no brindan resultados buenos para datos en los cuales las clases están desbalanceadas. En nuestro caso, la clase de Apgar = 9 posee un 89% de los datos y los demás se dividen entre los Apgar >= 5, quedando una cantidad ínfima para los datos cercanos a 1. Dicho esto, podemos reflejar en los resultados previos: Se obtienen precision, recall y f1-score igual a 0 en todos los Apgar distinto de 9, es decir la red neuronal no logró predecir datos que sean distintos a este valor del apgar. Finalmente, el método de clasificación de redes neuronales queda descartado para el análisis de nuestro data set en este proyecto."
   ]
  },
  {
   "cell_type": "markdown",
   "metadata": {},
   "source": [
    "## 4. Naïve Bayes y Redes de Soporte Bayesianas "
   ]
  },
  {
   "cell_type": "code",
   "execution_count": null,
   "metadata": {
    "collapsed": true
   },
   "outputs": [],
   "source": []
  },
  {
   "cell_type": "markdown",
   "metadata": {},
   "source": [
    "## 5.Support Vector Machines"
   ]
  },
  {
   "cell_type": "code",
   "execution_count": 1,
   "metadata": {},
   "outputs": [
    {
     "ename": "OSError",
     "evalue": "Initializing from file failed",
     "output_type": "error",
     "traceback": [
      "\u001b[1;31m---------------------------------------------------------------------------\u001b[0m",
      "\u001b[1;31mOSError\u001b[0m                                   Traceback (most recent call last)",
      "\u001b[1;32m<ipython-input-1-816e37a27b0c>\u001b[0m in \u001b[0;36m<module>\u001b[1;34m()\u001b[0m\n\u001b[0;32m      6\u001b[0m \u001b[1;32mfrom\u001b[0m \u001b[0msklearn\u001b[0m\u001b[1;33m.\u001b[0m\u001b[0mmetrics\u001b[0m \u001b[1;32mimport\u001b[0m \u001b[0mconfusion_matrix\u001b[0m\u001b[1;33m\u001b[0m\u001b[0m\n\u001b[0;32m      7\u001b[0m \u001b[1;33m\u001b[0m\u001b[0m\n\u001b[1;32m----> 8\u001b[1;33m \u001b[0mdatos\u001b[0m \u001b[1;33m=\u001b[0m \u001b[0mpd\u001b[0m\u001b[1;33m.\u001b[0m\u001b[0mread_csv\u001b[0m\u001b[1;33m(\u001b[0m\u001b[1;34m\"reducción .csv\"\u001b[0m\u001b[1;33m)\u001b[0m\u001b[1;33m\u001b[0m\u001b[0m\n\u001b[0m\u001b[0;32m      9\u001b[0m \u001b[0mX\u001b[0m \u001b[1;33m=\u001b[0m \u001b[0mdatos\u001b[0m\u001b[1;33m.\u001b[0m\u001b[0mdrop\u001b[0m\u001b[1;33m(\u001b[0m\u001b[0mlabels\u001b[0m\u001b[1;33m=\u001b[0m\u001b[1;33m[\u001b[0m\u001b[1;34m\"APGAR5\"\u001b[0m\u001b[1;33m,\u001b[0m\u001b[1;34m\"APGAR5R\"\u001b[0m\u001b[1;33m,\u001b[0m\u001b[1;34m\"CIG_REC\"\u001b[0m\u001b[1;33m]\u001b[0m\u001b[1;33m,\u001b[0m\u001b[0maxis\u001b[0m\u001b[1;33m=\u001b[0m\u001b[1;36m1\u001b[0m\u001b[1;33m)\u001b[0m\u001b[1;33m\u001b[0m\u001b[0m\n\u001b[0;32m     10\u001b[0m \u001b[0mY\u001b[0m \u001b[1;33m=\u001b[0m \u001b[0mdatos\u001b[0m\u001b[1;33m.\u001b[0m\u001b[0mAPGAR5\u001b[0m\u001b[1;33m\u001b[0m\u001b[0m\n",
      "\u001b[1;32mD:\\Anaconda3\\lib\\site-packages\\pandas\\io\\parsers.py\u001b[0m in \u001b[0;36mparser_f\u001b[1;34m(filepath_or_buffer, sep, delimiter, header, names, index_col, usecols, squeeze, prefix, mangle_dupe_cols, dtype, engine, converters, true_values, false_values, skipinitialspace, skiprows, nrows, na_values, keep_default_na, na_filter, verbose, skip_blank_lines, parse_dates, infer_datetime_format, keep_date_col, date_parser, dayfirst, iterator, chunksize, compression, thousands, decimal, lineterminator, quotechar, quoting, escapechar, comment, encoding, dialect, tupleize_cols, error_bad_lines, warn_bad_lines, skipfooter, skip_footer, doublequote, delim_whitespace, as_recarray, compact_ints, use_unsigned, low_memory, buffer_lines, memory_map, float_precision)\u001b[0m\n\u001b[0;32m    653\u001b[0m                     skip_blank_lines=skip_blank_lines)\n\u001b[0;32m    654\u001b[0m \u001b[1;33m\u001b[0m\u001b[0m\n\u001b[1;32m--> 655\u001b[1;33m         \u001b[1;32mreturn\u001b[0m \u001b[0m_read\u001b[0m\u001b[1;33m(\u001b[0m\u001b[0mfilepath_or_buffer\u001b[0m\u001b[1;33m,\u001b[0m \u001b[0mkwds\u001b[0m\u001b[1;33m)\u001b[0m\u001b[1;33m\u001b[0m\u001b[0m\n\u001b[0m\u001b[0;32m    656\u001b[0m \u001b[1;33m\u001b[0m\u001b[0m\n\u001b[0;32m    657\u001b[0m     \u001b[0mparser_f\u001b[0m\u001b[1;33m.\u001b[0m\u001b[0m__name__\u001b[0m \u001b[1;33m=\u001b[0m \u001b[0mname\u001b[0m\u001b[1;33m\u001b[0m\u001b[0m\n",
      "\u001b[1;32mD:\\Anaconda3\\lib\\site-packages\\pandas\\io\\parsers.py\u001b[0m in \u001b[0;36m_read\u001b[1;34m(filepath_or_buffer, kwds)\u001b[0m\n\u001b[0;32m    403\u001b[0m \u001b[1;33m\u001b[0m\u001b[0m\n\u001b[0;32m    404\u001b[0m     \u001b[1;31m# Create the parser.\u001b[0m\u001b[1;33m\u001b[0m\u001b[1;33m\u001b[0m\u001b[0m\n\u001b[1;32m--> 405\u001b[1;33m     \u001b[0mparser\u001b[0m \u001b[1;33m=\u001b[0m \u001b[0mTextFileReader\u001b[0m\u001b[1;33m(\u001b[0m\u001b[0mfilepath_or_buffer\u001b[0m\u001b[1;33m,\u001b[0m \u001b[1;33m**\u001b[0m\u001b[0mkwds\u001b[0m\u001b[1;33m)\u001b[0m\u001b[1;33m\u001b[0m\u001b[0m\n\u001b[0m\u001b[0;32m    406\u001b[0m \u001b[1;33m\u001b[0m\u001b[0m\n\u001b[0;32m    407\u001b[0m     \u001b[1;32mif\u001b[0m \u001b[0mchunksize\u001b[0m \u001b[1;32mor\u001b[0m \u001b[0miterator\u001b[0m\u001b[1;33m:\u001b[0m\u001b[1;33m\u001b[0m\u001b[0m\n",
      "\u001b[1;32mD:\\Anaconda3\\lib\\site-packages\\pandas\\io\\parsers.py\u001b[0m in \u001b[0;36m__init__\u001b[1;34m(self, f, engine, **kwds)\u001b[0m\n\u001b[0;32m    760\u001b[0m             \u001b[0mself\u001b[0m\u001b[1;33m.\u001b[0m\u001b[0moptions\u001b[0m\u001b[1;33m[\u001b[0m\u001b[1;34m'has_index_names'\u001b[0m\u001b[1;33m]\u001b[0m \u001b[1;33m=\u001b[0m \u001b[0mkwds\u001b[0m\u001b[1;33m[\u001b[0m\u001b[1;34m'has_index_names'\u001b[0m\u001b[1;33m]\u001b[0m\u001b[1;33m\u001b[0m\u001b[0m\n\u001b[0;32m    761\u001b[0m \u001b[1;33m\u001b[0m\u001b[0m\n\u001b[1;32m--> 762\u001b[1;33m         \u001b[0mself\u001b[0m\u001b[1;33m.\u001b[0m\u001b[0m_make_engine\u001b[0m\u001b[1;33m(\u001b[0m\u001b[0mself\u001b[0m\u001b[1;33m.\u001b[0m\u001b[0mengine\u001b[0m\u001b[1;33m)\u001b[0m\u001b[1;33m\u001b[0m\u001b[0m\n\u001b[0m\u001b[0;32m    763\u001b[0m \u001b[1;33m\u001b[0m\u001b[0m\n\u001b[0;32m    764\u001b[0m     \u001b[1;32mdef\u001b[0m \u001b[0mclose\u001b[0m\u001b[1;33m(\u001b[0m\u001b[0mself\u001b[0m\u001b[1;33m)\u001b[0m\u001b[1;33m:\u001b[0m\u001b[1;33m\u001b[0m\u001b[0m\n",
      "\u001b[1;32mD:\\Anaconda3\\lib\\site-packages\\pandas\\io\\parsers.py\u001b[0m in \u001b[0;36m_make_engine\u001b[1;34m(self, engine)\u001b[0m\n\u001b[0;32m    964\u001b[0m     \u001b[1;32mdef\u001b[0m \u001b[0m_make_engine\u001b[0m\u001b[1;33m(\u001b[0m\u001b[0mself\u001b[0m\u001b[1;33m,\u001b[0m \u001b[0mengine\u001b[0m\u001b[1;33m=\u001b[0m\u001b[1;34m'c'\u001b[0m\u001b[1;33m)\u001b[0m\u001b[1;33m:\u001b[0m\u001b[1;33m\u001b[0m\u001b[0m\n\u001b[0;32m    965\u001b[0m         \u001b[1;32mif\u001b[0m \u001b[0mengine\u001b[0m \u001b[1;33m==\u001b[0m \u001b[1;34m'c'\u001b[0m\u001b[1;33m:\u001b[0m\u001b[1;33m\u001b[0m\u001b[0m\n\u001b[1;32m--> 966\u001b[1;33m             \u001b[0mself\u001b[0m\u001b[1;33m.\u001b[0m\u001b[0m_engine\u001b[0m \u001b[1;33m=\u001b[0m \u001b[0mCParserWrapper\u001b[0m\u001b[1;33m(\u001b[0m\u001b[0mself\u001b[0m\u001b[1;33m.\u001b[0m\u001b[0mf\u001b[0m\u001b[1;33m,\u001b[0m \u001b[1;33m**\u001b[0m\u001b[0mself\u001b[0m\u001b[1;33m.\u001b[0m\u001b[0moptions\u001b[0m\u001b[1;33m)\u001b[0m\u001b[1;33m\u001b[0m\u001b[0m\n\u001b[0m\u001b[0;32m    967\u001b[0m         \u001b[1;32melse\u001b[0m\u001b[1;33m:\u001b[0m\u001b[1;33m\u001b[0m\u001b[0m\n\u001b[0;32m    968\u001b[0m             \u001b[1;32mif\u001b[0m \u001b[0mengine\u001b[0m \u001b[1;33m==\u001b[0m \u001b[1;34m'python'\u001b[0m\u001b[1;33m:\u001b[0m\u001b[1;33m\u001b[0m\u001b[0m\n",
      "\u001b[1;32mD:\\Anaconda3\\lib\\site-packages\\pandas\\io\\parsers.py\u001b[0m in \u001b[0;36m__init__\u001b[1;34m(self, src, **kwds)\u001b[0m\n\u001b[0;32m   1580\u001b[0m         \u001b[0mkwds\u001b[0m\u001b[1;33m[\u001b[0m\u001b[1;34m'allow_leading_cols'\u001b[0m\u001b[1;33m]\u001b[0m \u001b[1;33m=\u001b[0m \u001b[0mself\u001b[0m\u001b[1;33m.\u001b[0m\u001b[0mindex_col\u001b[0m \u001b[1;32mis\u001b[0m \u001b[1;32mnot\u001b[0m \u001b[1;32mFalse\u001b[0m\u001b[1;33m\u001b[0m\u001b[0m\n\u001b[0;32m   1581\u001b[0m \u001b[1;33m\u001b[0m\u001b[0m\n\u001b[1;32m-> 1582\u001b[1;33m         \u001b[0mself\u001b[0m\u001b[1;33m.\u001b[0m\u001b[0m_reader\u001b[0m \u001b[1;33m=\u001b[0m \u001b[0mparsers\u001b[0m\u001b[1;33m.\u001b[0m\u001b[0mTextReader\u001b[0m\u001b[1;33m(\u001b[0m\u001b[0msrc\u001b[0m\u001b[1;33m,\u001b[0m \u001b[1;33m**\u001b[0m\u001b[0mkwds\u001b[0m\u001b[1;33m)\u001b[0m\u001b[1;33m\u001b[0m\u001b[0m\n\u001b[0m\u001b[0;32m   1583\u001b[0m \u001b[1;33m\u001b[0m\u001b[0m\n\u001b[0;32m   1584\u001b[0m         \u001b[1;31m# XXX\u001b[0m\u001b[1;33m\u001b[0m\u001b[1;33m\u001b[0m\u001b[0m\n",
      "\u001b[1;32mpandas\\_libs\\parsers.pyx\u001b[0m in \u001b[0;36mpandas._libs.parsers.TextReader.__cinit__ (pandas\\_libs\\parsers.c:4209)\u001b[1;34m()\u001b[0m\n",
      "\u001b[1;32mpandas\\_libs\\parsers.pyx\u001b[0m in \u001b[0;36mpandas._libs.parsers.TextReader._setup_parser_source (pandas\\_libs\\parsers.c:8895)\u001b[1;34m()\u001b[0m\n",
      "\u001b[1;31mOSError\u001b[0m: Initializing from file failed"
     ]
    }
   ],
   "source": [
    "import pandas as pd\n",
    "from sklearn import svm\n",
    "from sklearn.metrics import classification_report\n",
    "from sklearn.model_selection import train_test_split\n",
    "from sklearn.metrics import accuracy_score\n",
    "from sklearn.metrics import confusion_matrix\n",
    "\n",
    "datos = pd.read_csv(\"reducción .csv\")\n",
    "X = datos.drop(labels=[\"APGAR5\",\"APGAR5R\",\"CIG_REC\"],axis=1)\n",
    "Y = datos.APGAR5\n",
    "\n",
    "X_train, X_test, y_train, y_test = train_test_split(X, Y, test_size=.33, random_state=37, stratify=Y)\n",
    "\n",
    "clf = svm.SVC()\n",
    "\n",
    "clf.fit(X_train, y_train)\n",
    "\n",
    "y_pred = clf.predict(X_test)\n",
    "\n",
    "print(\"Accuracy en test set:\", accuracy_score(y_test, y_pred))\n",
    "print(classification_report(y_test, y_pred))\n",
    "print(confusion_matrix (y_test, y_pred))"
   ]
  },
  {
   "cell_type": "markdown",
   "metadata": {
    "collapsed": true
   },
   "source": [
    "# Metodos de Clustering:\n"
   ]
  }
 ],
 "metadata": {
  "kernelspec": {
   "display_name": "Python 3",
   "language": "python",
   "name": "python3"
  },
  "language_info": {
   "codemirror_mode": {
    "name": "ipython",
    "version": 3
   },
   "file_extension": ".py",
   "mimetype": "text/x-python",
   "name": "python",
   "nbconvert_exporter": "python",
   "pygments_lexer": "ipython3",
   "version": "3.6.1"
  }
 },
 "nbformat": 4,
 "nbformat_minor": 2
}
