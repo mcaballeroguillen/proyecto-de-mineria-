{
 "cells": [
  {
   "cell_type": "markdown",
   "metadata": {},
   "source": [
    "# **Predicción de la puntuación de Apgar** "
   ]
  },
  {
   "cell_type": "markdown",
   "metadata": {},
   "source": [
    "## 1. Introducción : \n",
    "\n",
    "En este proyecto abordaremos datos sobre el estudio y el cálculo de la puntuación de Apgar en infantes recién nacidos.\n",
    "\n",
    "El exámen de Apgar es el primer diagnóstico que se realiza a un recién nacido, en distintos periodos de tiempo. La primera y la segunda observación se realizan un minuto y cinco minutos posteriores al nacimiento del feto. Mediante este examen, se determina de la manera más rápida el estado físico y salud general del recién nacido como también si es que requiere de alguna intervención posterior al nacimiento.\n",
    "\n",
    "Para lograr de manera exitosa una predicción de esta puntuación, se obtiene un dataset con los antecedentes socioeconómicos de ambos padres del infante, por lo que se busca alguna correlación entre las actividades diarias y malas prácticas de los padres frente a su descendencia.\n",
    "\n",
    "A partir de las metodologías vistas en clases, se busca generar estadísticas y correlaciones relevantes a las costumbres pecaminosas de la sociedad y nuestra futura generación. De esta forma, abordaremos una postura crítica y disuasiva, con una finalidad de generar el cambio necesario para cuidar y preservar nuestro futuro.\n",
    "\n",
    "La segunda postura frente a este trabajo es dar un mayor lapso temporal a los potencialmente padres. Esto quiere decir, a partir de nuestro trabajo se podrá identificar problemáticas en algún recién nacido, sin si quiera tener la etapa del embarazo completa. De manera más clara, conociendo los datos socioeconómicos, tales como ingreso, estrato social, estudios, escolaridad, empleo, hogar geográfico, por mencionar algunos, se llegará a una noción del estado de salud de una futura guagua.\n",
    "\n",
    "La problemática que se presenta en un inicio es la incertidumbre de la generalización de nuestras predicciones acerca del examen de Apgar. Si bien, se logrará predecir esta puntuación en base a numerosos factores, ¿qué tan generalizable es la salud de un recién nacido? ¿Se puede concluir al respecto de su vida completa? O ¿sólo es una advertencia al momento de dar a luz? ¿Se podrán tomar decisiones como por ejemplo, no tener un bebé porque existe conocimiento que nacerá con algún defecto? Siendo esta la gran problemática, nos enfocaremos en estudiar relaciones del estado de salud inicial de un bebé con los aspectos socio-económicos de los padres, para posteriormente relacionar la puntuación de Apgar con la calidad de vida de una persona.\n"
   ]
  },
  {
   "cell_type": "markdown",
   "metadata": {},
   "source": [
    "## 2. Descripción de los datos :   \n",
    "        \n",
    "        "
   ]
  },
  {
   "cell_type": "markdown",
   "metadata": {},
   "source": [
    " Atributos con los que trabajaremos:\n",
    "        * OCNTYPOP: Población del sector geográfico de la persona en medición.\n",
    "        * BFacil3: Institución en donde se dio el parto.*\n",
    "                   Posibles valores: Hospital, ~Hospital, No se sabe.\n",
    "        * Mager14: Escala de edad de la madre en intervalos pequeños.\n",
    "        * Mager9: Escala de edad de la madre en intervalos generales.\n",
    "        * MRACEHISP: Raza de la madre según origen Hispáno.\n",
    "                    Algunos valores: Mexicana, Puerto Riqueña, Cubana, América del centro/sur\n",
    "        * MAR: Estatus de matrimonio. Valores: Sí, No, No se sabe.\n",
    "        *MEDUC: Escolaridad de la madre.\n",
    "        *CIG_REC: Dato que representa si la madre fuma o no.\n",
    "        *APGAR5: Puntuación Apgar del recién nacido. Este es el valor que deseamos predecir.\n",
    "        *Sex: Género del recién nacido.\n"
   ]
  },
  {
   "cell_type": "markdown",
   "metadata": {
    "collapsed": true
   },
   "source": [
    "## 3.Exploración inicial:"
   ]
  },
  {
   "cell_type": "code",
   "execution_count": 1,
   "metadata": {},
   "outputs": [
    {
     "name": "stderr",
     "output_type": "stream",
     "text": [
      "/home/marco/anaconda2/envs/py36/lib/python3.6/site-packages/IPython/core/interactiveshell.py:2717: DtypeWarning: Columns (27) have mixed types. Specify dtype option on import or set low_memory=False.\n",
      "  interactivity=interactivity, compiler=compiler, result=result)\n"
     ]
    },
    {
     "name": "stdout",
     "output_type": "stream",
     "text": [
      "FILLER1           41130\n",
      "REVISION          41130\n",
      "FILLER2           41130\n",
      "DOB_YY            41130\n",
      "DOB_MM            41130\n",
      "FILLER3           41130\n",
      "DOB_WK            41130\n",
      "OTERR             41130\n",
      "FILLER4           41130\n",
      "OCNTY             41130\n",
      "OCNTYPOP          41130\n",
      "BFACIL            41130\n",
      "UBFACIL           41130\n",
      "FILLER5           41130\n",
      "BFACIL3           41130\n",
      "FILLER6           41130\n",
      "MAGE_IMPFLG       41130\n",
      "MAGE_REPFLG       41130\n",
      "MAGER             41130\n",
      "MAGER14           41130\n",
      "MAGER9            41130\n",
      "MBCNTRY           41130\n",
      "FILLER7           41130\n",
      "MRTERR            41130\n",
      "FILLER8           41130\n",
      "MRCNTY            41130\n",
      "FILLER9           41130\n",
      "RCNTY_POP         41130\n",
      "FILLER10          41130\n",
      "RECTYPE           41130\n",
      "                  ...  \n",
      "F_URF_ECLAMP      41130\n",
      "FILLER70          41130\n",
      "F_UOB_INDUCT      41130\n",
      "FILLER71          41130\n",
      "F_UOB_TOCOL       41130\n",
      "FILLER72          41130\n",
      "F_ULD_MECONIUM    41130\n",
      "FILLER73          41130\n",
      "F_ULD_PRECIP      41130\n",
      "FILLER74          41130\n",
      "F_ULD_BREECH      41130\n",
      "FILLER75          41130\n",
      "F_U_VAGINAL       41130\n",
      "F_U_VBAC          41130\n",
      "F_U_PRIMAC        41130\n",
      "F_U_REPEAC        41130\n",
      "F_U_FORCEP        41130\n",
      "F_U_VACUUM        41130\n",
      "FILLER76          41130\n",
      "F_UCA_ANEN        41130\n",
      "F_UCA_SPINA       41130\n",
      "FILLER77          41130\n",
      "F_UCA_OMPHALO     41130\n",
      "FILLER78          41130\n",
      "F_UCA_CLEFTLP     41130\n",
      "FILLER79          41130\n",
      "F_UCA_HERNIA      41130\n",
      "FILLER80          41130\n",
      "F_UCA_DOWNS       41130\n",
      "FILLER81          41130\n",
      "Length: 314, dtype: int64\n"
     ]
    }
   ],
   "source": [
    "    import pandas as pd\n",
    "    df2=pd.read_csv(\"nchs_birth_2011.csv\")\n",
    "    cnt = df2.count()\n",
    "    print (cnt)"
   ]
  },
  {
   "cell_type": "markdown",
   "metadata": {},
   "source": [
    "Como se puede observar el dataset contiene 314 atributos y 41130 tuplas. Se redimensionó quitando los atributos que no serían importantes para nuestro estudio como ser los datos del bebé al nacer(peso, largo, dimensiones físicas) ya que la idea del proyecto es predecir el estado del bebé con los datos de los padres; y en ese momento no es posible saber más información del bebé.\n",
    "\n",
    "Además este dataset contaba con la peculiaridad de que varios atributos como ser la edad, el estrato social, nivel de escolaridad, entre otros, aparecían en la tabla con diferentes escalas, por ejemplo:\n",
    "\n",
    "\tEl campo MAGER es la edad de la madre como tal, pero además está el campo MAGER9 que  también es la edad de la mamá  solo que están agrupadas en 9 clases (menos 15 años,15-19 años,20-24 años, …) , igual está MAGER14 (edad de la madre en 14 clases) por lo que sólo se considera uno de estos campos, ya que son el mismo atributo en un escalado diferente. "
   ]
  },
  {
   "cell_type": "code",
   "execution_count": 2,
   "metadata": {},
   "outputs": [
    {
     "name": "stdout",
     "output_type": "stream",
     "text": [
      "Campos Finales\n",
      "OCNTY        41130\n",
      "OCNTYPOP     41130\n",
      "BFACIL3      41130\n",
      "MAGER14      41130\n",
      "MAGER9       41130\n",
      "MRACEHISP    41130\n",
      "MAR          41130\n",
      "MEDUC        41130\n",
      "CIG_REC      41130\n",
      "APGAR5       41130\n",
      "APGAR5R      41130\n",
      "SEX          41130\n",
      "dtype: int64\n"
     ]
    }
   ],
   "source": [
    "    import pandas as pd\n",
    "    df1=pd.read_csv(\"reduccion.csv\")\n",
    "    cnt = df1.count()\n",
    "    print(\"Campos Finales\")\n",
    "    print (cnt)"
   ]
  },
  {
   "cell_type": "markdown",
   "metadata": {},
   "source": [
    "## 4.Estadísticas y Gráficos:"
   ]
  },
  {
   "cell_type": "code",
   "execution_count": null,
   "metadata": {
    "collapsed": true
   },
   "outputs": [],
   "source": [
    "%matplotlib inline\n",
    "import matplotlib.pyplot as plt\n",
    "df1[(df1['APGAR5'] != 99)].groupby('MEDUC').plot.bar()\n",
    "plt.show()"
   ]
  },
  {
   "cell_type": "markdown",
   "metadata": {},
   "source": [
    "Gráfico que muestra la relación entre la escolaridad de la madre y la medida del examen APGAR del bebé. Podemos observar a mayor escolaridad, más saludable nacen los bebés."
   ]
  },
  {
   "cell_type": "code",
   "execution_count": null,
   "metadata": {
    "collapsed": true
   },
   "outputs": [],
   "source": [
    "%matplotlib inline\n",
    "import matplotlib.pyplot as plt\n",
    "df1[(df1['APGAR5'] != 99)].groupby('MAGER9').mean().loc[:,['APGAR5']].plot()\n",
    "plt.show()"
   ]
  },
  {
   "cell_type": "markdown",
   "metadata": {},
   "source": [
    "Gráfico que muestra que entre los 15 a 34 años de edad de la madre, aumenta la puntuación de Apgar, sin embargo en el intervalo de 35 a 44 años, la puntuación disminuye considerablemente y  finalmente retoma en el intervalo 45 a 50 años. "
   ]
  },
  {
   "cell_type": "code",
   "execution_count": 7,
   "metadata": {},
   "outputs": [
    {
     "data": {
      "image/png": "[encoded data removed]",
      "text/plain": [
       "<matplotlib.figure.Figure at 0x1aab448cc88>"
      ]
     },
     "metadata": {},
     "output_type": "display_data"
    }
   ],
   "source": [
    "%matplotlib inline\n",
    "import matplotlib.pyplot as plt\n",
    "df1[(df1['APGAR5'] != 99)].groupby('MRACEHISP').mean().loc[:,['APGAR5']].plot()\n",
    "plt.show()"
   ]
  },
  {
   "cell_type": "markdown",
   "metadata": {},
   "source": [
    "Gráfico que muestra que las madres cubanas son las que dieron a luz a los bebes más saludables, y que las madres no hispanas negras son las tienen la peor calificación. "
   ]
  },
  {
   "cell_type": "markdown",
   "metadata": {},
   "source": [
    "## 5.Trabajos Relacionados:"
   ]
  },
  {
   "cell_type": "markdown",
   "metadata": {},
   "source": [
    "\n",
    "### Objetivo\n",
    "\n",
    "Evaluar si la puntuación de Apgar sigue siendo pertinente en la práctica contemporánea después de más de 50 años de amplio uso y evaluar el valor de la puntuación de Apgar en la predicción de la supervivencia infantil, expandiéndose desde el período neonatal hasta el post-neonatal.\n",
    "\n",
    "### Métodos\n",
    "\n",
    "Se utilizó el conjunto de datos sobre nacimientos vivos y mortalidad infantil, que incluía 25.168.052 nacimientos únicos y 768.305 partos gemelos. El resultado del interés fue la muerte del bebé dentro de un año después del nacimiento. Se utilizó el modelo de riesgo proporcional de Cox para estimar la razón de riesgo de mortalidad infantil con diferentes puntuaciones de Apgar.\n",
    "\n",
    "### Resultados\n",
    "\n",
    "Entre los nacimientos con una puntuación de Apgar muy baja a los cinco minutos (1-3), las tasas de mortalidad neonatal y post neonatal permanecieron altas hasta el término (≥ 37 semanas). Por otro lado, entre los nacimientos con alto puntaje de Apgar (≥7), la tasa de mortalidad neonatal y post neonatal disminuyó progresivamente con la edad gestacional. Los blancos no hispanos tuvieron una mortalidad neonatal consistentemente mayor que la de los no hispanos negros tanto en nacimientos prematuros como de término. Sin embargo, para la mortalidad post-neonatal, el negro tenía una tasa significativamente mayor que el blanco. El patrón de los cambios en la mortalidad neonatal y post-neonatal por puntuación de Apgar en nacimientos gemelos es esencialmente el mismo que en los nacimientos únicos.\n",
    "\n",
    "### Conclusiones\n",
    "\n",
    "El sistema de puntuación de Apgar tiene un valor continuo para predecir los resultados adversos neonatales y posneonatales tanto en el término como en los prematuros, y es aplicable a gemelos y en varios grupos raciales o étnicos.\n",
    "\n",
    "\n",
    "referencia: https://www.ncbi.nlm.nih.gov/pmc/articles/PMC3726736/"
   ]
  },
  {
   "cell_type": "markdown",
   "metadata": {
    "collapsed": true
   },
   "source": [
    "# Metodos de Clasificación:\n"
   ]
  },
  {
   "cell_type": "markdown",
   "metadata": {},
   "source": [
    "## 1. Árbol de decisión"
   ]
  },
  {
   "cell_type": "code",
   "execution_count": 2,
   "metadata": {},
   "outputs": [
    {
     "name": "stdout",
     "output_type": "stream",
     "text": [
      "Accuracy en test set: 0.882266263906\n",
      "             precision    recall  f1-score   support\n",
      "\n",
      "          1       0.00      0.00      0.00         9\n",
      "          2       0.00      0.00      0.00         6\n",
      "          3       0.00      0.00      0.00         6\n",
      "          4       0.00      0.00      0.00        14\n",
      "          5       0.00      0.00      0.00        36\n",
      "          6       0.00      0.00      0.00        36\n",
      "          7       0.00      0.00      0.00       152\n",
      "          8       0.08      0.01      0.02       645\n",
      "          9       0.89      0.99      0.94     12045\n",
      "         10       0.31      0.01      0.02       502\n",
      "         99       0.81      0.11      0.19       122\n",
      "\n",
      "avg / total       0.81      0.88      0.84     13573\n",
      "\n",
      "[[    0     0     0     0     0     0     0     0     9     0     0]\n",
      " [    0     0     0     0     0     0     0     0     6     0     0]\n",
      " [    0     0     0     0     0     0     0     0     6     0     0]\n",
      " [    0     0     0     0     0     0     0     0    14     0     0]\n",
      " [    0     0     0     0     0     0     0     0    36     0     0]\n",
      " [    0     0     0     0     0     0     0     1    34     1     0]\n",
      " [    0     0     0     0     1     0     0     0   150     0     1]\n",
      " [    0     0     0     0     0     0     1     6   638     0     0]\n",
      " [    0     0     4     1     1     4     9    63 11951    10     2]\n",
      " [    0     0     0     0     0     0     0     1   496     5     0]\n",
      " [    0     0     0     0     0     0     0     0   109     0    13]]\n"
     ]
    },
    {
     "name": "stderr",
     "output_type": "stream",
     "text": [
      "/home/marco/anaconda2/envs/py36/lib/python3.6/site-packages/sklearn/metrics/classification.py:1113: UndefinedMetricWarning: Precision and F-score are ill-defined and being set to 0.0 in labels with no predicted samples.\n",
      "  'precision', 'predicted', average, warn_for)\n"
     ]
    }
   ],
   "source": [
    "from sklearn.model_selection import train_test_split\n",
    "from sklearn.tree import DecisionTreeClassifier\n",
    "from sklearn.metrics import accuracy_score \n",
    "from sklearn.metrics import confusion_matrix \n",
    "from sklearn.metrics import classification_report\n",
    "import pandas as pd\n",
    "\n",
    "df1=pd.read_csv(\"reduccion.csv\")\n",
    "\n",
    "X= df1.drop(labels=[\"APGAR5\",\"APGAR5R\",\"CIG_REC\",\"SEX\"],axis=1)\n",
    "Y= df1.APGAR5\n",
    "X_train, X_test, y_train, y_test = train_test_split(X, Y, test_size=.33, random_state=37, stratify=Y)\n",
    "\n",
    "clf = DecisionTreeClassifier()\n",
    "clf.fit(X_train, y_train)\n",
    "\n",
    "y_pred = clf.predict(X_test)\n",
    "print(\"Accuracy en test set:\", accuracy_score(y_test, y_pred))\n",
    "print(classification_report(y_test, y_pred))\n",
    "print(confusion_matrix (y_test,y_pred))\n"
   ]
  },
  {
   "cell_type": "markdown",
   "metadata": {},
   "source": [
    "Como es de esperarse al tener los datos des balanceados el árbol de decisión tienen una precisión muy buena, pero es claro ya que la mayoría de los datos están en la clase 9.   "
   ]
  },
  {
   "cell_type": "markdown",
   "metadata": {},
   "source": [
    "###  Dataset Con Clases Muy Desbalanceadas"
   ]
  },
  {
   "cell_type": "code",
   "execution_count": 3,
   "metadata": {},
   "outputs": [
    {
     "data": {
      "text/plain": [
       "9     36500\n",
       "8      1955\n",
       "10     1521\n",
       "7       460\n",
       "99      370\n",
       "6       109\n",
       "5       108\n",
       "4        42\n",
       "1        29\n",
       "2        19\n",
       "3        17\n",
       "Name: APGAR5, dtype: int64"
      ]
     },
     "execution_count": 3,
     "metadata": {},
     "output_type": "execute_result"
    }
   ],
   "source": [
    "df1['APGAR5'].value_counts()"
   ]
  },
  {
   "cell_type": "markdown",
   "metadata": {},
   "source": [
    "### Subsampling de APGAR =  9"
   ]
  },
  {
   "cell_type": "code",
   "execution_count": 4,
   "metadata": {},
   "outputs": [
    {
     "name": "stdout",
     "output_type": "stream",
     "text": [
      "9     6500\n",
      "8     1955\n",
      "10    1521\n",
      "7      460\n",
      "99     370\n",
      "6      109\n",
      "5      108\n",
      "4       42\n",
      "1       29\n",
      "2       19\n",
      "3       17\n",
      "Name: APGAR5, dtype: int64\n"
     ]
    }
   ],
   "source": [
    "import numpy as np\n",
    "\n",
    "idx = np.random.choice(df1.loc[df1.APGAR5 == 9].index, size=30000, replace=False)\n",
    "data_subsampled = df1.drop(df1.iloc[idx].index)\n",
    "print(data_subsampled['APGAR5'].value_counts())"
   ]
  },
  {
   "cell_type": "markdown",
   "metadata": {},
   "source": [
    "### Árbol de decisión Con  Reducción"
   ]
  },
  {
   "cell_type": "code",
   "execution_count": 5,
   "metadata": {},
   "outputs": [
    {
     "name": "stdout",
     "output_type": "stream",
     "text": [
      "Accuracy en Árbol de Decisión: 0.561938469916\n",
      "             precision    recall  f1-score   support\n",
      "\n",
      "          1       0.00      0.00      0.00         9\n",
      "          2       0.00      0.00      0.00         6\n",
      "          3       0.00      0.00      0.00         6\n",
      "          4       0.00      0.00      0.00        14\n",
      "          5       0.00      0.00      0.00        36\n",
      "          6       0.00      0.00      0.00        36\n",
      "          7       0.15      0.03      0.04       152\n",
      "          8       0.26      0.09      0.14       645\n",
      "          9       0.59      0.92      0.72      2145\n",
      "         10       0.33      0.04      0.07       502\n",
      "         99       0.57      0.10      0.17       122\n",
      "\n",
      "avg / total       0.46      0.56      0.46      3673\n",
      "\n",
      "[[   0    0    0    0    0    0    0    0    9    0    0]\n",
      " [   0    0    0    0    0    0    0    1    5    0    0]\n",
      " [   0    0    0    0    0    0    0    1    5    0    0]\n",
      " [   0    0    0    0    0    0    0    2   12    0    0]\n",
      " [   0    0    0    0    0    1    0    2   32    1    0]\n",
      " [   0    0    0    0    0    0    1    5   29    1    0]\n",
      " [   0    0    0    2    0    3    4   17  124    1    1]\n",
      " [   0    1    0    1    2    1    3   59  572    5    1]\n",
      " [   2    0    0    1    7    5   14  113 1970   31    2]\n",
      " [   1    0    0    0    0    0    1   17  459   19    5]\n",
      " [   0    0    0    0    0    1    3    7   99    0   12]]\n"
     ]
    },
    {
     "name": "stderr",
     "output_type": "stream",
     "text": [
      "/home/marco/anaconda2/envs/py36/lib/python3.6/site-packages/sklearn/metrics/classification.py:1113: UndefinedMetricWarning: Precision and F-score are ill-defined and being set to 0.0 in labels with no predicted samples.\n",
      "  'precision', 'predicted', average, warn_for)\n"
     ]
    }
   ],
   "source": [
    "\n",
    "\n",
    "X= data_subsampled.drop(labels=[\"APGAR5\",\"APGAR5R\",\"CIG_REC\",\"SEX\"],axis=1)\n",
    "Y= data_subsampled.APGAR5\n",
    "X_train, X_test, y_train, y_test = train_test_split(X, Y, test_size=.33, random_state=37, stratify=Y)\n",
    "\n",
    "clf = DecisionTreeClassifier()\n",
    "clf.fit(X_train, y_train)\n",
    "\n",
    "y_pred = clf.predict(X_test)\n",
    "print(\"Accuracy en Árbol de Decisión:\", accuracy_score(y_test, y_pred))\n",
    "print(classification_report(y_test, y_pred))\n",
    "print(confusion_matrix (y_test,y_pred))\n"
   ]
  },
  {
   "cell_type": "markdown",
   "metadata": {},
   "source": [
    "Como es de esperarse al tener los datos des balanceados el árbol de decisión tienen una precisión muy buena, pero es claro ya que la mayoría de los datos están en la clase 9.   "
   ]
  },
  {
   "cell_type": "markdown",
   "metadata": {},
   "source": [
    "### Nivelando todos los Apgar a aproximadamente 10.000 tuplas"
   ]
  },
  {
   "cell_type": "code",
   "execution_count": 12,
   "metadata": {},
   "outputs": [
    {
     "name": "stdout",
     "output_type": "stream",
     "text": [
      "9     10500\n",
      "8      2955\n",
      "10     2521\n",
      "7      1460\n",
      "6      1109\n",
      "5      1108\n",
      "4      1042\n",
      "1      1029\n",
      "2      1019\n",
      "3      1017\n",
      "99      370\n",
      "Name: APGAR5, dtype: int64\n"
     ]
    }
   ],
   "source": [
    "idx1 = np.random.choice(df1.loc[df1.APGAR5 == 1].index, size=1000)\n",
    "idx2 = np.random.choice(df1.loc[df1.APGAR5 == 2].index, size=1000)\n",
    "idx3 = np.random.choice(df1.loc[df1.APGAR5 == 3].index, size=1000)\n",
    "idx4 = np.random.choice(df1.loc[df1.APGAR5 == 4].index, size=1000)\n",
    "idx5 = np.random.choice(df1.loc[df1.APGAR5 == 5].index, size=1000)\n",
    "idx6 = np.random.choice(df1.loc[df1.APGAR5 == 6].index, size=1000)\n",
    "idx7 = np.random.choice(df1.loc[df1.APGAR5 == 7].index, size=1000)\n",
    "idx8 = np.random.choice(df1.loc[df1.APGAR5 == 8].index, size=1000)\n",
    "idx9 = np.random.choice(df1.loc[df1.APGAR5 == 9].index, size=26000, replace=False)\n",
    "idx10 = np.random.choice(df1.loc[df1.APGAR5 == 10].index, size=1000)\n",
    "\n",
    "data_subsampled = df1.drop(df1.iloc[idx9].index)\n",
    "data_oversampled = pd.concat([data_subsampled, df1.iloc[idx1]])\n",
    "data_oversampled = pd.concat([data_oversampled, df1.iloc[idx2]])\n",
    "data_oversampled = pd.concat([data_oversampled, df1.iloc[idx3]])\n",
    "data_oversampled = pd.concat([data_oversampled, df1.iloc[idx4]])\n",
    "data_oversampled = pd.concat([data_oversampled, df1.iloc[idx5]])\n",
    "data_oversampled = pd.concat([data_oversampled, df1.iloc[idx6]])\n",
    "data_oversampled = pd.concat([data_oversampled, df1.iloc[idx7]])\n",
    "data_oversampled = pd.concat([data_oversampled, df1.iloc[idx8]])\n",
    "data_oversampled = pd.concat([data_oversampled, df1.iloc[idx10]])\n",
    "print(data_oversampled['APGAR5'].value_counts())"
   ]
  },
  {
   "cell_type": "markdown",
   "metadata": {},
   "source": [
    "### Árbol de decisión Con Nivelación de Clases "
   ]
  },
  {
   "cell_type": "code",
   "execution_count": 21,
   "metadata": {},
   "outputs": [
    {
     "name": "stdout",
     "output_type": "stream",
     "text": [
      "Accuracy en Árbol de Decisión NDC: 0.504960442044\n",
      "             precision    recall  f1-score   support\n",
      "\n",
      "          1       0.55      0.71      0.62       339\n",
      "          2       0.63      0.32      0.42       336\n",
      "          3       0.47      0.55      0.50       336\n",
      "          4       0.50      0.45      0.47       344\n",
      "          5       0.52      0.25      0.34       366\n",
      "          6       0.55      0.40      0.46       366\n",
      "          7       0.47      0.14      0.22       482\n",
      "          8       0.33      0.09      0.14       975\n",
      "          9       0.51      0.83      0.63      3465\n",
      "         10       0.45      0.05      0.10       832\n",
      "         99       0.68      0.11      0.18       122\n",
      "\n",
      "avg / total       0.49      0.50      0.44      7963\n",
      "\n",
      "[[ 242    0   11    0    0    0    0    0   86    0    0]\n",
      " [   0  107   14    0    0    0    0    0  215    0    0]\n",
      " [   0   24  185    0    0    0    0    0  127    0    0]\n",
      " [  24    0    0  154    0    0    0    0  166    0    0]\n",
      " [  12    8   12    8   93    4    0   11  214    4    0]\n",
      " [  13    0    9    5    0  146    0    0  193    0    0]\n",
      " [   6    2   15   15    6    3   68   14  352    1    0]\n",
      " [  25    8   33   25   19   27   16   85  727   10    0]\n",
      " [  91   17   83   67   45   69   51  115 2883   40    4]\n",
      " [  19    2   33   32   17   12    8   22  640   45    2]\n",
      " [   5    1    2    2    0    4    2    8   85    0   13]]\n"
     ]
    }
   ],
   "source": [
    "X = data_oversampled.drop(labels=[\"APGAR5\",\"APGAR5R\",\"CIG_REC\",\"SEX\"],axis=1)\n",
    "Y = data_oversampled.APGAR5\n",
    "X_train, X_test, y_train, y_test = train_test_split(X, Y, test_size=.33, random_state=37, stratify=Y)\n",
    "\n",
    "clf = DecisionTreeClassifier()\n",
    "clf.fit(X_train, y_train)\n",
    "\n",
    "y_pred = clf.predict(X_test)\n",
    "print(\"Accuracy en Árbol de Decisión NDC:\", accuracy_score(y_test, y_pred))\n",
    "print(classification_report(y_test, y_pred))\n",
    "print(confusion_matrix (y_test,y_pred))"
   ]
  },
  {
   "cell_type": "markdown",
   "metadata": {},
   "source": [
    "Al nivelar las clases el clasificador ya tiene un comportamiento más o menos aceptable, ya la precisión se redujo, pero es claro que este estudió estamos haciendo que el clasificador  se aprenda el data-set. "
   ]
  },
  {
   "cell_type": "markdown",
   "metadata": {},
   "source": [
    "## 2. Redes Neuronales "
   ]
  },
  {
   "cell_type": "code",
   "execution_count": 6,
   "metadata": {
    "scrolled": true
   },
   "outputs": [
    {
     "name": "stdout",
     "output_type": "stream",
     "text": [
      "Accuracy en Red Neuronal: 0.888233993959\n",
      "             precision    recall  f1-score   support\n",
      "\n",
      "          1       0.00      0.00      0.00         9\n",
      "          2       0.00      0.00      0.00         6\n",
      "          3       0.00      0.00      0.00         6\n",
      "          4       0.00      0.00      0.00        14\n",
      "          5       0.00      0.00      0.00        36\n",
      "          6       0.00      0.00      0.00        36\n",
      "          7       0.00      0.00      0.00       152\n",
      "          8       0.00      0.00      0.00       645\n",
      "          9       0.89      1.00      0.94     12045\n",
      "         10       0.33      0.00      0.01       502\n",
      "         99       1.00      0.11      0.19       122\n",
      "\n",
      "avg / total       0.81      0.89      0.84     13573\n",
      "\n",
      "[[    0     0     0     0     0     0     0     0     9     0     0]\n",
      " [    0     0     0     0     0     0     0     0     6     0     0]\n",
      " [    0     0     0     0     0     0     0     0     6     0     0]\n",
      " [    0     0     0     0     0     0     0     0    14     0     0]\n",
      " [    0     0     0     0     0     0     0     0    36     0     0]\n",
      " [    0     0     0     0     0     0     0     0    36     0     0]\n",
      " [    0     0     0     0     0     0     0     0   152     0     0]\n",
      " [    0     0     0     0     0     0     0     0   645     0     0]\n",
      " [    0     0     0     0     0     0     0     0 12041     4     0]\n",
      " [    0     0     0     0     0     0     0     0   500     2     0]\n",
      " [    0     0     0     0     0     0     0     0   109     0    13]]\n"
     ]
    },
    {
     "name": "stderr",
     "output_type": "stream",
     "text": [
      "/home/marco/anaconda2/envs/py36/lib/python3.6/site-packages/sklearn/metrics/classification.py:1113: UndefinedMetricWarning: Precision and F-score are ill-defined and being set to 0.0 in labels with no predicted samples.\n",
      "  'precision', 'predicted', average, warn_for)\n"
     ]
    }
   ],
   "source": [
    "import pandas as pd\n",
    "from sklearn.neural_network import MLPClassifier\n",
    "from sklearn.metrics import classification_report\n",
    "from sklearn.model_selection import train_test_split\n",
    "from sklearn.metrics import accuracy_score \n",
    "from sklearn.metrics import confusion_matrix\n",
    "from sklearn.preprocessing import StandardScaler\n",
    "\n",
    "datos = pd.read_csv(\"reduccion.csv\")\n",
    "X = datos.drop(labels=[\"APGAR5\",\"APGAR5R\",\"CIG_REC\", \"SEX\"],axis=1)\n",
    "Y = datos.APGAR5\n",
    "\n",
    "X_train, X_test, y_train, y_test = train_test_split(X, Y, test_size=.33, random_state=37, stratify=Y)\n",
    "\n",
    "clf = MLPClassifier(solver='lbfgs', alpha=1e-5, hidden_layer_sizes=(5, 2), random_state=1)\n",
    "\n",
    "scaler = StandardScaler()\n",
    "scaler.fit(X_train)\n",
    "\n",
    "X_train = scaler.transform(X_train)  \n",
    "X_test = scaler.transform(X_test)\n",
    "\n",
    "clf.fit(X_train, y_train)\n",
    "\n",
    "y_pred = clf.predict(X_test)\n",
    "\n",
    "print(\"Accuracy en Red Neuronal:\", accuracy_score(y_test, y_pred))\n",
    "print(classification_report(y_test, y_pred))\n",
    "print(confusion_matrix (y_test, y_pred))"
   ]
  },
  {
   "cell_type": "markdown",
   "metadata": {},
   "source": [
    "Explicación redes neuronales\n",
    "En general, las redes neuronales no brindan resultados buenos para datos en los cuales las clases están desbalanceadas. En nuestro caso, la clase de Apgar = 9 posee un 89% de los datos y los demás se dividen entre los Apgar >= 5, quedando una cantidad ínfima para los datos cercanos a 1. Dicho esto, podemos reflejar en los resultados previos: Se obtienen precision, recall y f1-score igual a 0 en todos los Apgar distinto de 9, es decir la red neuronal no logró predecir datos que sean distintos a este valor del apgar."
   ]
  },
  {
   "cell_type": "markdown",
   "metadata": {},
   "source": [
    "### Red Neuronal Con Nivelación de Clases"
   ]
  },
  {
   "cell_type": "code",
   "execution_count": 22,
   "metadata": {
    "scrolled": true
   },
   "outputs": [
    {
     "name": "stdout",
     "output_type": "stream",
     "text": [
      "Accuracy en Redes Neuronales NDC: 0.436895642346\n",
      "             precision    recall  f1-score   support\n",
      "\n",
      "          1       0.00      0.00      0.00       339\n",
      "          2       0.38      0.05      0.09       336\n",
      "          3       0.00      0.00      0.00       336\n",
      "          4       0.00      0.00      0.00       344\n",
      "          5       0.00      0.00      0.00       366\n",
      "          6       0.00      0.00      0.00       366\n",
      "          7       0.00      0.00      0.00       482\n",
      "          8       0.00      0.00      0.00       975\n",
      "          9       0.44      1.00      0.61      3465\n",
      "         10       0.00      0.00      0.00       832\n",
      "         99       1.00      0.09      0.17       122\n",
      "\n",
      "avg / total       0.22      0.44      0.27      7963\n",
      "\n",
      "[[   0    0    0    0    0    0    0    0  339    0    0]\n",
      " [   0   18    0    0    0    0    0    0  318    0    0]\n",
      " [   0    0    0    0    0    0    0    0  336    0    0]\n",
      " [   0    0    0    0    0    0    0    0  344    0    0]\n",
      " [   0    0    0    0    0    0    0    0  366    0    0]\n",
      " [   0    4    0    0    0    0    0    0  362    0    0]\n",
      " [   0    0    0    0    0    0    0    0  482    0    0]\n",
      " [   0    5    0    0    0    0    0    0  970    0    0]\n",
      " [   0   15    0    0    0    0    0    0 3450    0    0]\n",
      " [   0    2    0    0    0    0    0    0  830    0    0]\n",
      " [   0    4    0    0    0    0    0    0  107    0   11]]\n"
     ]
    },
    {
     "name": "stderr",
     "output_type": "stream",
     "text": [
      "D:\\Anaconda3\\lib\\site-packages\\sklearn\\metrics\\classification.py:1113: UndefinedMetricWarning: Precision and F-score are ill-defined and being set to 0.0 in labels with no predicted samples.\n",
      "  'precision', 'predicted', average, warn_for)\n"
     ]
    }
   ],
   "source": [
    "\n",
    "X = data_oversampled.drop(labels=[\"APGAR5\",\"APGAR5R\",\"CIG_REC\",\"SEX\"],axis=1)\n",
    "Y = data_oversampled.APGAR5\n",
    "\n",
    "X_train, X_test, y_train, y_test = train_test_split(X, Y, test_size=.33, random_state=37, stratify=Y)\n",
    "\n",
    "clf = MLPClassifier(solver='lbfgs', alpha=1e-5, hidden_layer_sizes=(5, 2), random_state=1)\n",
    "\n",
    "scaler = StandardScaler()\n",
    "scaler.fit(X_train)\n",
    "\n",
    "X_train = scaler.transform(X_train)  \n",
    "X_test = scaler.transform(X_test)\n",
    "\n",
    "clf.fit(X_train, y_train)\n",
    "\n",
    "y_pred = clf.predict(X_test)\n",
    "\n",
    "print(\"Accuracy en Redes Neuronales NDC:\", accuracy_score(y_test, y_pred))\n",
    "print(classification_report(y_test, y_pred))\n",
    "print(confusion_matrix (y_test, y_pred))"
   ]
  },
  {
   "cell_type": "markdown",
   "metadata": {},
   "source": [
    "Ya revisando los resultados con la nivelación de las clases, podemos concluir que definitivamente redes neuronales no es un buen clasificador para este dataset. Se observa que la red no es capáz de aprender algún patrón que identifique la salud de un recién nacido en base a los datos sociales de la madre."
   ]
  },
  {
   "cell_type": "markdown",
   "metadata": {},
   "source": [
    "## 4.Support Vector Machines"
   ]
  },
  {
   "cell_type": "code",
   "execution_count": 17,
   "metadata": {
    "scrolled": true
   },
   "outputs": [
    {
     "name": "stdout",
     "output_type": "stream",
     "text": [
      "Accuracy en test set: 0.888086642599\n",
      "             precision    recall  f1-score   support\n",
      "\n",
      "          1       0.00      0.00      0.00         9\n",
      "          2       0.00      0.00      0.00         6\n",
      "          3       0.00      0.00      0.00         6\n",
      "          4       0.00      0.00      0.00        14\n",
      "          5       0.00      0.00      0.00        36\n",
      "          6       0.00      0.00      0.00        36\n",
      "          7       0.00      0.00      0.00       152\n",
      "          8       0.00      0.00      0.00       645\n",
      "          9       0.89      1.00      0.94     12045\n",
      "         10       0.00      0.00      0.00       502\n",
      "         99       1.00      0.07      0.14       122\n",
      "\n",
      "avg / total       0.80      0.89      0.84     13573\n",
      "\n",
      "[[    0     0     0     0     0     0     0     0     9     0     0]\n",
      " [    0     0     0     0     0     0     0     0     6     0     0]\n",
      " [    0     0     0     0     0     0     0     0     6     0     0]\n",
      " [    0     0     0     0     0     0     0     0    14     0     0]\n",
      " [    0     0     0     0     0     0     0     0    36     0     0]\n",
      " [    0     0     0     0     0     0     0     0    36     0     0]\n",
      " [    0     0     0     0     0     0     0     0   152     0     0]\n",
      " [    0     0     0     0     0     0     0     0   645     0     0]\n",
      " [    0     0     0     0     0     0     0     0 12045     0     0]\n",
      " [    0     0     0     0     0     0     0     0   502     0     0]\n",
      " [    0     0     0     0     0     0     0     0   113     0     9]]\n"
     ]
    },
    {
     "name": "stderr",
     "output_type": "stream",
     "text": [
      "D:\\Anaconda3\\lib\\site-packages\\sklearn\\metrics\\classification.py:1113: UndefinedMetricWarning: Precision and F-score are ill-defined and being set to 0.0 in labels with no predicted samples.\n",
      "  'precision', 'predicted', average, warn_for)\n"
     ]
    }
   ],
   "source": [
    "import pandas as pd\n",
    "from sklearn import svm\n",
    "from sklearn.metrics import classification_report\n",
    "from sklearn.model_selection import train_test_split\n",
    "from sklearn.metrics import accuracy_score\n",
    "from sklearn.metrics import confusion_matrix\n",
    "\n",
    "datos = pd.read_csv(\"reduccion.csv\")\n",
    "X = datos.drop(labels=[\"APGAR5\",\"APGAR5R\",\"CIG_REC\", \"SEX\"],axis=1)\n",
    "Y = datos.APGAR5\n",
    "\n",
    "X_train, X_test, y_train, y_test = train_test_split(X, Y, test_size=.33, random_state=37, stratify=Y)\n",
    "\n",
    "clf = svm.SVC()\n",
    "\n",
    "clf.fit(X_train, y_train)\n",
    "\n",
    "y_pred = clf.predict(X_test)\n",
    "\n",
    "print(\"Accuracy en test set:\", accuracy_score(y_test, y_pred))\n",
    "print(classification_report(y_test, y_pred))\n",
    "print(confusion_matrix (y_test, y_pred))"
   ]
  },
  {
   "cell_type": "markdown",
   "metadata": {},
   "source": [
    "### SVM Con Nivelación de Clases"
   ]
  },
  {
   "cell_type": "code",
   "execution_count": 16,
   "metadata": {
    "scrolled": false
   },
   "outputs": [
    {
     "name": "stdout",
     "output_type": "stream",
     "text": [
      "Accuracy en test set: 0.470300138139\n",
      "             precision    recall  f1-score   support\n",
      "\n",
      "          1       0.63      0.40      0.49       339\n",
      "          2       0.77      0.20      0.31       336\n",
      "          3       0.56      0.31      0.40       336\n",
      "          4       0.67      0.11      0.19       344\n",
      "          5       0.56      0.06      0.11       366\n",
      "          6       0.47      0.04      0.07       366\n",
      "          7       0.83      0.01      0.02       482\n",
      "          8       0.22      0.03      0.05       975\n",
      "          9       0.46      0.96      0.62      3465\n",
      "         10       0.88      0.01      0.02       832\n",
      "         99       0.93      0.11      0.19       122\n",
      "\n",
      "avg / total       0.54      0.47      0.35      7963\n",
      "\n",
      "[[ 137    0    0    0    0    0    0    0  202    0    0]\n",
      " [   0   66   19    0    0    0    0    0  251    0    0]\n",
      " [   0    0  103    0    0    0    0    0  233    0    0]\n",
      " [  18    0    0   39    0    0    0    0  287    0    0]\n",
      " [   0    3    5    0   22    0    0    4  332    0    0]\n",
      " [   0    0    4    0    0   14    0    9  339    0    0]\n",
      " [   3    0    9    8    2    5    5   14  436    0    0]\n",
      " [   8    4   18    1    5    2    0   26  911    0    0]\n",
      " [  31   12   24   10   10    7    1   55 3313    1    1]\n",
      " [  19    0    2    0    0    2    0    3  799    7    0]\n",
      " [   0    1    1    0    0    0    0    5  102    0   13]]\n"
     ]
    }
   ],
   "source": [
    "\n",
    "X = data_oversampled.drop(labels=[\"APGAR5\",\"APGAR5R\",\"CIG_REC\",\"SEX\"], axis=1)\n",
    "Y = data_oversampled.APGAR5\n",
    "\n",
    "X_train, X_test, y_train, y_test = train_test_split(X, Y, test_size=.33, random_state=37, stratify=Y)\n",
    "\n",
    "clf = svm.SVC()\n",
    "\n",
    "clf.fit(X_train, y_train)\n",
    "\n",
    "y_pred = clf.predict(X_test)\n",
    "\n",
    "print(\"Accuracy en test set:\", accuracy_score(y_test, y_pred))\n",
    "print(classification_report(y_test, y_pred))\n",
    "print(confusion_matrix (y_test, y_pred))"
   ]
  },
  {
   "cell_type": "markdown",
   "metadata": {},
   "source": [
    "Debido a los resultados obtenidos con anterioridad producto de las clases de Apgar desbalanceadas, decidimos combinar los datasets desde el año 2006 hasta el año 2011, agrupando todos las clases del Apgar menor a 7 como una única clase y las clases de Apgar 8, 9, 10 como clases apartes por si solas. La idea de esto es balancear los 4 grupos y tratarlos como \"bebés poco saludables\", \"bebés relativamente saludables\", \"bebés saludables\" y \"bebés en perfecto estado de salud\". En base a estos criterios, repetir los métodos de clasificación al nuevo dataset integrado y realizar algunos más análisis de nuestro interés."
   ]
  },
  {
   "cell_type": "markdown",
   "metadata": {
    "collapsed": true
   },
   "source": [
    "# Construcción de un nuevo Data Set   "
   ]
  },
  {
   "cell_type": "markdown",
   "metadata": {},
   "source": [
    "Como se menciono ene el párrafo anterior, al tener un dataset muy des balanceado se procedió a descargar una cantidad de 6 años, para poder construir un nuevo dataset donde las clases estén más niveladas. "
   ]
  },
  {
   "cell_type": "code",
   "execution_count": 1,
   "metadata": {},
   "outputs": [
    {
     "name": "stdout",
     "output_type": "stream",
     "text": [
      "OCNTY        40057\n",
      "OCNTYPOP     40057\n",
      "BFACIL3      40057\n",
      "MAGER14      40057\n",
      "MAGER9       40057\n",
      "MRACEHISP    40057\n",
      "MAR          40057\n",
      "MEDUC        40057\n",
      "APGAR5       40057\n",
      "APGAR5R      40057\n",
      "SEX          40057\n",
      "dtype: int64\n"
     ]
    }
   ],
   "source": [
    " import pandas as pd\n",
    " df1=pd.read_csv(\"merge.csv\")\n",
    " cnt = df1.count()\n",
    " print (cnt)"
   ]
  },
  {
   "cell_type": "markdown",
   "metadata": {},
   "source": [
    "Se puede observar que el data set sigue teniendo los campos que el datat set anterior y este tiene una cantidad de 40057 tuplas.\n"
   ]
  },
  {
   "cell_type": "code",
   "execution_count": 2,
   "metadata": {},
   "outputs": [
    {
     "data": {
      "text/plain": [
       "8     14026\n",
       "9     10031\n",
       "10     9644\n",
       "15     5171\n",
       "99     1185\n",
       "Name: APGAR5, dtype: int64"
      ]
     },
     "execution_count": 2,
     "metadata": {},
     "output_type": "execute_result"
    }
   ],
   "source": [
    "df1['APGAR5'].value_counts()"
   ]
  },
  {
   "cell_type": "markdown",
   "metadata": {},
   "source": [
    "En este último conteo se puede observar que ahora solo aparecen 5 clases, esto se debe a que al hacer la unión de los años, si se niveló las clases 9,8 y 10 ; pero las clases menores de 8 seguían teniendo una cantidad muy pequeña, por lo que se decidió unir las clases 1,2,3,4,5,6,7 en una clase 15.\n",
    "\n",
    "Lo que al final significa que nuestro dataser tiene las siguientes clases:\n",
    "10, 9, 8 y 15 (<8)"
   ]
  },
  {
   "cell_type": "code",
   "execution_count": 4,
   "metadata": {},
   "outputs": [
    {
     "data": {
      "text/plain": [
       "0    21022\n",
       "1    19035\n",
       "Name: SEX, dtype: int64"
      ]
     },
     "execution_count": 4,
     "metadata": {},
     "output_type": "execute_result"
    }
   ],
   "source": [
    "new_map = {10 : 10,9 : 9, 8 : 8,7 : 15,6 : 15,5 : 15,4 : 15 ,3 : 15,2 : 15,1 : 15,0 : 15,99 : 99}\n",
    "new_map2={'M':0,'F':1}\n",
    "df2= df1.copy()\n",
    "df2[\"APGAR5\"]=df2[\"APGAR5\"].map(new_map)\n",
    "df2[\"SEX\"]=df2[\"SEX\"].map(new_map2)\n",
    "df2['SEX'].value_counts()"
   ]
  },
  {
   "cell_type": "markdown",
   "metadata": {},
   "source": [
    "## Árbol de decisión Con Nuevo Data Set"
   ]
  },
  {
   "cell_type": "code",
   "execution_count": 6,
   "metadata": {},
   "outputs": [
    {
     "name": "stdout",
     "output_type": "stream",
     "text": [
      "Accuracy en test set: 0.372040245102\n",
      "             precision    recall  f1-score   support\n",
      "\n",
      "          8       0.38      0.62      0.47      4629\n",
      "          9       0.31      0.23      0.27      3310\n",
      "         10       0.38      0.37      0.38      3183\n",
      "         15       0.41      0.03      0.06      1706\n",
      "         99       0.68      0.10      0.17       391\n",
      "\n",
      "avg / total       0.38      0.37      0.34     13219\n",
      "\n",
      "[[2875  823  880   44    7]\n",
      " [1894  760  629   23    4]\n",
      " [1519  463 1186   10    5]\n",
      " [1031  252  363   58    2]\n",
      " [ 192  121   32    7   39]]\n"
     ]
    }
   ],
   "source": [
    "from sklearn.model_selection import train_test_split\n",
    "from sklearn.tree import DecisionTreeClassifier\n",
    "from sklearn.metrics import accuracy_score \n",
    "from sklearn.metrics import confusion_matrix \n",
    "from sklearn.metrics import classification_report\n",
    "import pandas as pd\n",
    "\n",
    "df3=df2[(df2['APGAR5'] != 99)]\n",
    "\n",
    "X= df1.drop(labels=[\"APGAR5\",\"APGAR5R\",\"SEX\"],axis=1)\n",
    "Y= df1.APGAR5\n",
    "X_train, X_test, y_train, y_test = train_test_split(X, Y, test_size=.33, random_state=37, stratify=Y)\n",
    "\n",
    "clf = DecisionTreeClassifier()\n",
    "clf.fit(X_train, y_train)\n",
    "\n",
    "y_pred = clf.predict(X_test)\n",
    "print(\"Accuracy en test set:\", accuracy_score(y_test, y_pred))\n",
    "print(classification_report(y_test, y_pred))\n",
    "print(confusion_matrix (y_test,y_pred))\n"
   ]
  },
  {
   "cell_type": "markdown",
   "metadata": {},
   "source": [
    "El rendimiento del árbol de decisión sigue siendo  no aceptable."
   ]
  },
  {
   "cell_type": "markdown",
   "metadata": {},
   "source": [
    "## Redes Neuronales  Con Nuevo Data Set"
   ]
  },
  {
   "cell_type": "code",
   "execution_count": 8,
   "metadata": {},
   "outputs": [
    {
     "name": "stdout",
     "output_type": "stream",
     "text": [
      "Accuracy en Red Neuronal: 0.350177774416\n",
      "             precision    recall  f1-score   support\n",
      "\n",
      "          8       0.35      1.00      0.52      4629\n",
      "          9       0.00      0.00      0.00      3310\n",
      "         10       0.00      0.00      0.00      3183\n",
      "         15       0.00      0.00      0.00      1706\n",
      "         99       0.00      0.00      0.00       391\n",
      "\n",
      "avg / total       0.12      0.35      0.18     13219\n",
      "\n",
      "[[4629    0    0    0    0]\n",
      " [3310    0    0    0    0]\n",
      " [3183    0    0    0    0]\n",
      " [1706    0    0    0    0]\n",
      " [ 391    0    0    0    0]]\n"
     ]
    },
    {
     "name": "stderr",
     "output_type": "stream",
     "text": [
      "/home/marco/anaconda2/envs/py36/lib/python3.6/site-packages/sklearn/metrics/classification.py:1113: UndefinedMetricWarning: Precision and F-score are ill-defined and being set to 0.0 in labels with no predicted samples.\n",
      "  'precision', 'predicted', average, warn_for)\n"
     ]
    }
   ],
   "source": [
    "import pandas as pd\n",
    "from sklearn.neural_network import MLPClassifier\n",
    "from sklearn.metrics import classification_report\n",
    "from sklearn.model_selection import train_test_split\n",
    "from sklearn.metrics import accuracy_score \n",
    "from sklearn.metrics import confusion_matrix\n",
    "from sklearn.preprocessing import StandardScaler\n",
    "\n",
    "datos = df1\n",
    "X = datos.drop(labels=[\"APGAR5\",\"APGAR5R\",\"SEX\"],axis=1)\n",
    "Y = datos.APGAR5\n",
    "\n",
    "X_train, X_test, y_train, y_test = train_test_split(X, Y, test_size=.33, random_state=37, stratify=Y)\n",
    "\n",
    "clf = MLPClassifier(solver='lbfgs', alpha=1e-5, hidden_layer_sizes=(5, 2), random_state=1)\n",
    "\n",
    "scaler = StandardScaler()\n",
    "scaler.fit(X_train)\n",
    "\n",
    "X_train = scaler.transform(X_train)  \n",
    "X_test = scaler.transform(X_test)\n",
    "\n",
    "clf.fit(X_train, y_train)\n",
    "\n",
    "y_pred = clf.predict(X_test)\n",
    "\n",
    "print(\"Accuracy en Red Neuronal:\", accuracy_score(y_test, y_pred))\n",
    "print(classification_report(y_test, y_pred))\n",
    "print(confusion_matrix (y_test, y_pred))"
   ]
  },
  {
   "cell_type": "markdown",
   "metadata": {},
   "source": [
    "Resultado Similar al Anterior"
   ]
  },
  {
   "cell_type": "markdown",
   "metadata": {},
   "source": [
    "## Support Vector Machines Con Nuevo Data Set"
   ]
  },
  {
   "cell_type": "code",
   "execution_count": 9,
   "metadata": {},
   "outputs": [
    {
     "name": "stdout",
     "output_type": "stream",
     "text": [
      "Accuracy en test set: 0.386943036538\n",
      "             precision    recall  f1-score   support\n",
      "\n",
      "          8       0.39      0.66      0.49      4629\n",
      "          9       0.32      0.24      0.27      3310\n",
      "         10       0.41      0.38      0.39      3183\n",
      "         15       0.81      0.02      0.04      1706\n",
      "         99       0.85      0.08      0.15       391\n",
      "\n",
      "avg / total       0.45      0.39      0.35     13219\n",
      "\n",
      "[[3054  777  789    6    3]\n",
      " [1941  783  583    2    1]\n",
      " [1499  476 1206    1    1]\n",
      " [1058  254  354   39    1]\n",
      " [ 202  136   20    0   33]]\n"
     ]
    }
   ],
   "source": [
    "import pandas as pd\n",
    "from sklearn import svm\n",
    "from sklearn.metrics import classification_report\n",
    "from sklearn.model_selection import train_test_split\n",
    "from sklearn.metrics import accuracy_score\n",
    "from sklearn.metrics import confusion_matrix\n",
    "\n",
    "datos = df1\n",
    "X = datos.drop(labels=[\"APGAR5\",\"APGAR5R\",\"SEX\"],axis=1)\n",
    "Y = datos.APGAR5\n",
    "\n",
    "X_train, X_test, y_train, y_test = train_test_split(X, Y, test_size=.33, random_state=37, stratify=Y)\n",
    "\n",
    "clf = svm.SVC()\n",
    "\n",
    "clf.fit(X_train, y_train)\n",
    "\n",
    "y_pred = clf.predict(X_test)\n",
    "\n",
    "print(\"Accuracy en test set:\", accuracy_score(y_test, y_pred))\n",
    "print(classification_report(y_test, y_pred))\n",
    "print(confusion_matrix (y_test, y_pred))"
   ]
  },
  {
   "cell_type": "markdown",
   "metadata": {},
   "source": [
    "Al aplicar el tercer clasificador y obtener un bajo rendimiento, se decidió cambiar la hipótesis, ya no se pretenderá intentar clasificar los datos, si no ver como se comportan los datos con clustering   "
   ]
  },
  {
   "cell_type": "markdown",
   "metadata": {
    "collapsed": true
   },
   "source": [
    "# Métodos de Clustering\n"
   ]
  },
  {
   "cell_type": "raw",
   "metadata": {},
   "source": [
    "A continuación se hará un análisis por medio de clustering del dataset. La idea de realizar este análisis es encontrar relaciones entre los datos socioeconómicos de cada encuestada y la salud de su recién nacido. También es de gran interés encontrar los factores más y menos relevantes para tomar en cuenta al momento de tener un hijo.\n",
    "Dicho esto, comenzamos analizando el dataset para ver cuántos clusters es conveniente utilizar para el estudio."
   ]
  },
  {
   "cell_type": "markdown",
   "metadata": {},
   "source": [
    "## Método del codo"
   ]
  },
  {
   "attachments": {
    "codo.png": {
     "image/png": "[encoded data removed]"
    }
   },
   "cell_type": "markdown",
   "metadata": {},
   "source": [
    "![codo.png](attachment:codo.png)"
   ]
  },
  {
   "cell_type": "markdown",
   "metadata": {},
   "source": [
    "Podemos visualizar a partir del gráfico anterior, el cual denota la suma de los errores cuadráticos según la cantidad de clusters, que el número de clusters óptimo vendría siendo 2. "
   ]
  },
  {
   "attachments": {
    "escala_edad.PNG": {
     "image/png": "[encoded data removed]"
    },
    "escala_edu.PNG": {
     "image/png": "[encoded data removed]"
    },
    "escala_instNac.PNG": {
     "image/png": "[encoded data removed]"
    }
   },
   "cell_type": "markdown",
   "metadata": {},
   "source": [
    "Escala de educación.\n",
    "![escala_edu.PNG](attachment:escala_edu.PNG)\n",
    "Escala de edades.\n",
    "![escala_edad.PNG](attachment:escala_edad.PNG)\n",
    "Representación numérico del lugar del instituto de nacimiento.\n",
    "![escala_instNac.PNG](attachment:escala_instNac.PNG)"
   ]
  },
  {
   "cell_type": "raw",
   "metadata": {},
   "source": [
    "En el siguiente gráfico, por medio de un análisis de DBSCAN, vemos como se agrupan las clases de educación 7 y 8 en las edades 5 y 6. Se interpreta este gráfico cómo la mujer se ha educado a lo largo de los último 15 años, dado que no encontramos mujeres mayores a 40 años con una educación superior a la licenciatura. Queda también visible que existen grupos de mujeres outlayers como se observa en edad = 1 y educación = 2.\n",
    "Este gráfico nos deja la siguiente pregunta planteada ¿Será que no encontramos mujeres mayor a los 40 años con una educación mayor a licenciatura porque eran épocas en que no era común que la mujer realice estudios superiores?"
   ]
  },
  {
   "attachments": {
    "edad_educ_dbscan.png": {
     "image/png": "[encoded data removed]"
    }
   },
   "cell_type": "markdown",
   "metadata": {},
   "source": [
    "![edad_educ_dbscan.png](attachment:edad_educ_dbscan.png)"
   ]
  },
  {
   "cell_type": "raw",
   "metadata": {},
   "source": [
    "A partir del gráfico de educación versus la edad de la madre, podemos visualizar las 4 distintas clases representadas por una figura geométrica distinta. No se logra ver alguna regularidad con respecto a las clases de Apgar, ya que se observan figuras distintas por todo el espacio representado. No se logra extraer información valiosa con respecto a las clases del dataset."
   ]
  },
  {
   "attachments": {
    "educ_edad.png": {
     "image/png": "[encoded data removed]"
    }
   },
   "cell_type": "markdown",
   "metadata": {},
   "source": [
    "![educ_edad.png](attachment:educ_edad.png)"
   ]
  },
  {
   "cell_type": "markdown",
   "metadata": {},
   "source": [
    "Si contrastamos la educación de la madre y el estado marital de la pareja, es decir si se encuentra casado o no, podemos encontrar únicamente la clase de Apgar 10 en las parejas casadas con una educación igual y superior a Licenciatura, lo que nos aporta con una de las conclusiones más relevantes con respecto al estudio de este dataset más balanceado. Las mujeres casadas con una educación superior completada, son las únicas que poseen bebés perfectamente sanos, como se puede ver en el gráfico a continuación."
   ]
  },
  {
   "attachments": {
    "educ_marital.png": {
     "image/png": "[encoded data removed]"
    }
   },
   "cell_type": "markdown",
   "metadata": {},
   "source": [
    "![educ_marital.png](attachment:educ_marital.png)"
   ]
  },
  {
   "cell_type": "markdown",
   "metadata": {},
   "source": [
    "Como no se logran encontrar diferencias realmente visibles entre el dataset completo, se decide analizar únicamente la clase Apgar 9 para ver si se encuentra alguna correlación entre toda esta clase de bebés saludables.\n",
    "Nuevamente se realiza el método del codo para ver cuántos clusters es necesario utilizar y se visualiza el mismo resultado: 2 clusters."
   ]
  },
  {
   "attachments": {
    "codo.png": {
     "image/png": "[encoded data removed]"
    }
   },
   "cell_type": "markdown",
   "metadata": {},
   "source": [
    "![codo.png](attachment:codo.png)"
   ]
  },
  {
   "cell_type": "markdown",
   "metadata": {},
   "source": [
    "Dentro de algunos resultados interesantes que encontramos dentro de los análisis de clusters, la comparación entre el instituto de nacimiento y el estado marital conllevan a uno de esos. Inicialmente se corre el algoritmo con k=2 clusters y se ve una gran concentración de los clusters rojo en los no casados y 2/3 de los casados, por lo que se decide correr Kmeans con k=3 para ver el comportamiento de estos clusters. Vemos en el segundo gráfico, que se separan claramente los casados y los no casados en clusers distintos.\n",
    "Se puede visualizar que los que no están casados tienen un comportamiento parecido con respecto al instituto de nacimiento (ignorando el instituto 3 que es desconocido), mientras que en los casados, se diferencian claramente entre los que deciden que el bebé nazca en un hospital y los que deciden que nazca en un lugar distinto a un hospital.\n",
    "La conclusión relevante que se puede extraer de este análisis en particular es que no existe relación entre el matrimonio y el instituto de nacimiento. Es decir, independiente de estar casado o no, existen grupos en que deciden que nazca en un hospital, como otro grupo que decide lo contrario, conllevando a la conclusión anterior. Lo que sí se puede interpretar de los gráficos es que los no casados presentan características similares en contraste a los que sí están casados."
   ]
  },
  {
   "attachments": {
    "instNac_marital_k2.png": {
     "image/png": "[encoded data removed]"
    },
    "instNac_marital_k3.png": {
     "image/png": "[encoded data removed]"
    }
   },
   "cell_type": "markdown",
   "metadata": {},
   "source": [
    "![instNac_marital_k2.png](attachment:instNac_marital_k2.png)\n",
    "![instNac_marital_k3.png](attachment:instNac_marital_k3.png)"
   ]
  },
  {
   "cell_type": "markdown",
   "metadata": {},
   "source": [
    "En el siguiente gráfico se puede observar la misma relación que se visualizó en el primer método que se realizó (DBSCAN). Claramente se visualiza que las mujeres se han ido educando en los últimos 15 años. También dentro de la clase Apgar 9, podemos ver que madres de edades entre 15 y 19 años ya poseen algún título universitario (Licenciatura) y existe una gran gama de edades de las mujeres para las cuales poseen un título de doctorado (entre 25 y 44 años)."
   ]
  },
  {
   "attachments": {
    "edad_educ_k2.png": {
     "image/png": "[encoded data removed]"
    }
   },
   "cell_type": "markdown",
   "metadata": {},
   "source": [
    "![edad_educ_k2.png](attachment:edad_educ_k2.png)"
   ]
  },
  {
   "cell_type": "markdown",
   "metadata": {},
   "source": [
    "El gráfico a continuación muestra la educación de la madre y el instituto de parto. Se logran diferenciar los extremos de educación (1 y 7, 8), los cuales deciden en su totalidad dar a luz en un hospital. Esto nos presenta la siguiente duda ¿porqué las madres de muy poca educación toman deciciones parecidas a las de muy buena educación? Una especulación es que las madres con buena educación deciden hacerlo por sentido lógico: \"es más conveniente dar a luz en un hospital que en la casa (por ejemplo\"), mientras que las madres de baja educación, vimos en el gráfico de educación versus edad que eran mujeres entre 15 y 19 años, por lo que nos hace pensar que están siendo guiadas por sus padres, los que toman una decición más lógica y prudente de dar a luz en un instituto más controlado."
   ]
  },
  {
   "attachments": {
    "educ_instNac_k2.png": {
     "image/png": "[encoded data removed]"
    }
   },
   "cell_type": "markdown",
   "metadata": {},
   "source": [
    "![educ_instNac_k2.png](attachment:educ_instNac_k2.png)"
   ]
  },
  {
   "cell_type": "markdown",
   "metadata": {},
   "source": [
    "Dentro de las diferencias más notables es cómo se agrupan las madres en función del sector poblacional y la educación. Se visualiza claramente el grupo que viven en lugares más poblados versus los menos poblados. Se ve que los lugares más poblados (2 y 3) con mayor a 100.000 habitantes, tienen más similitudes que los que suelen vivir en lugares menos poblados, aun que aún así, se encuentran mujeres de alta educación en ambos grupos."
   ]
  },
  {
   "attachments": {
    "educ_poblacion_k2.png": {
     "image/png": "[encoded data removed]"
    },
    "escala_poblacion.PNG": {
     "image/png": "[encoded data removed]"
    }
   },
   "cell_type": "markdown",
   "metadata": {},
   "source": [
    "![escala_poblacion.PNG](attachment:escala_poblacion.PNG)\n",
    "![educ_poblacion_k2.png](attachment:educ_poblacion_k2.png)"
   ]
  },
  {
   "cell_type": "markdown",
   "metadata": {},
   "source": [
    "Como se ve en el gráfico de educación versus estado marital, no se logra ver una relación directa entre el matrimonio y la educación de la madre. Los clusters no son bien definidos, por ejemplo que existan un comportamiento de agrupar a las mujeres con mayor educación casadas, o de menor educación no casadas, por lo que nos preguntamos ¿No estar casado no afecta la educación de la madre?"
   ]
  },
  {
   "attachments": {
    "educ_marital_k2.png": {
     "image/png": "[encoded data removed]"
    }
   },
   "cell_type": "markdown",
   "metadata": {},
   "source": [
    "![educ_marital_k2.png](attachment:educ_marital_k2.png)"
   ]
  },
  {
   "cell_type": "markdown",
   "metadata": {},
   "source": [
    "# Expectativas"
   ]
  },
  {
   "cell_type": "markdown",
   "metadata": {},
   "source": [
    "Nos hubiese gustado haber encontrado relaciones entre la edad y educación con respecto a la salud del bebé, como también entre la educación y el estado marital. Estos son los factores más comúnes que a uno se le ocurren al momento de pensar en la descendencia. Apesar de que no se lograron encontrar dichas relaciones, se lograron obtener algunos datos curiosos que nos presentaron con más dudas por responder sobre el dataset."
   ]
  },
  {
   "cell_type": "markdown",
   "metadata": {},
   "source": [
    "# Conclusión"
   ]
  },
  {
   "cell_type": "markdown",
   "metadata": {},
   "source": [
    "A pesar del esfuerzo hecho, intentando nivelar las clases, los clasificadores no dieron los resultados esperados, que esto nos dimos cuenta que aplicar clasificadores en  data set reales no es tan fácil, se debe hacer un estudio del dataset y del clasificador mismo, es decir dejar por un lado la técnica de  prueba y error, intentar comprender como funcionan los clasificadores y con esto aplicarlo al data set en cuestión \n",
    "\n",
    "Además se puede decir que prácticamente existe de todo en este mundo. Existe mucha diversidad entre los estratos sociales pero al momento de ver qué factores son los que directamente se correlacionan con la salud de un recién nacido, no fueron identicadas muy claramente.\n",
    "El factor más relevante que se pudo obtener fue el sector poblacional, existe gran diferencia entre las personas que viven en sectores más poblados y los de menos población, mientras que el menos relevante fue el matrimonio. No se logró establecer una relación directa entre el matrimonio y la salud del bebé, como también en las decisiones que se toman en pareja (lugar en donde nace el bebé)."
   ]
  },
  {
   "cell_type": "code",
   "execution_count": null,
   "metadata": {
    "collapsed": true
   },
   "outputs": [],
   "source": []
  }
 ],
 "metadata": {
  "kernelspec": {
   "display_name": "Python 3",
   "language": "python",
   "name": "python3"
  },
  "language_info": {
   "codemirror_mode": {
    "name": "ipython",
    "version": 3
   },
   "file_extension": ".py",
   "mimetype": "text/x-python",
   "name": "python",
   "nbconvert_exporter": "python",
   "pygments_lexer": "ipython3",
   "version": "3.6.1"
  }
 },
 "nbformat": 4,
 "nbformat_minor": 2
}
